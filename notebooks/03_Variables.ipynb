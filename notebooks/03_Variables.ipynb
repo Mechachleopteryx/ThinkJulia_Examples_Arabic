{
 "cells": [
  {
   "cell_type": "markdown",
   "metadata": {},
   "source": [
    "إستعمل هذا الزر لتشغيل بايندر\n",
    "\n",
    "[![Binder](http://mybinder.org/badge_logo.svg)](https://mybinder.org/v2/gh/faris-digital/ThinkJulia_Examples_Arabic/master?urlpath=lab)"
   ]
  },
  {
   "cell_type": "markdown",
   "metadata": {},
   "source": [
    "لتشغيل الخلايا إضغط \n",
    "\n",
    "SHIFT + ENTER أو CTRL + ENTER"
   ]
  },
  {
   "cell_type": "code",
   "execution_count": 2,
   "metadata": {},
   "outputs": [
    {
     "data": {
      "text/plain": [
       "Main.Utils"
      ]
     },
     "execution_count": 2,
     "metadata": {},
     "output_type": "execute_result"
    }
   ],
   "source": [
    "include(\"../utils.jl\")"
   ]
  },
  {
   "cell_type": "markdown",
   "metadata": {},
   "source": [
    "# Functions - الدوال"
   ]
  },
  {
   "cell_type": "code",
   "execution_count": 3,
   "metadata": {},
   "outputs": [
    {
     "data": {
      "text/html": [
       "    <iframe width=\"560\" height=\"315\"\n",
       "    src=\"https://www.youtube.com/embed/R_7YsLcBH5U?start=1&end=20&rel=0&showinfo=0\"\n",
       "    frameborder=\"0\" allowfullscreen>\n",
       "    </iframe>\n"
      ],
      "text/plain": [
       "HTML{String}(\"    <iframe width=\\\"560\\\" height=\\\"315\\\"\\n    src=\\\"https://www.youtube.com/embed/R_7YsLcBH5U?start=1&end=20&rel=0&showinfo=0\\\"\\n    frameborder=\\\"0\\\" allowfullscreen>\\n    </iframe>\\n\")"
      ]
     },
     "execution_count": 3,
     "metadata": {},
     "output_type": "execute_result"
    }
   ],
   "source": [
    "Utils.read_youtube(\"R_7YsLcBH5U\", \"0:20\")"
   ]
  },
  {
   "cell_type": "markdown",
   "metadata": {},
   "source": [
    "## Function Call - نداء دالة"
   ]
  },
  {
   "cell_type": "code",
   "execution_count": 4,
   "metadata": {},
   "outputs": [
    {
     "data": {
      "text/html": [
       "    <iframe width=\"560\" height=\"315\"\n",
       "    src=\"https://www.youtube.com/embed/R_7YsLcBH5U?start=20&end=430&rel=0&showinfo=0\"\n",
       "    frameborder=\"0\" allowfullscreen>\n",
       "    </iframe>\n"
      ],
      "text/plain": [
       "HTML{String}(\"    <iframe width=\\\"560\\\" height=\\\"315\\\"\\n    src=\\\"https://www.youtube.com/embed/R_7YsLcBH5U?start=20&end=430&rel=0&showinfo=0\\\"\\n    frameborder=\\\"0\\\" allowfullscreen>\\n    </iframe>\\n\")"
      ]
     },
     "execution_count": 4,
     "metadata": {},
     "output_type": "execute_result"
    }
   ],
   "source": [
    "Utils.read_youtube(\"R_7YsLcBH5U\", \"0:20\", \"7:10\")"
   ]
  },
  {
   "cell_type": "code",
   "execution_count": 5,
   "metadata": {},
   "outputs": [
    {
     "data": {
      "text/plain": [
       "32"
      ]
     },
     "execution_count": 5,
     "metadata": {},
     "output_type": "execute_result"
    }
   ],
   "source": [
    "parse(Int64, \"32\")"
   ]
  },
  {
   "cell_type": "code",
   "execution_count": 7,
   "metadata": {},
   "outputs": [
    {
     "data": {
      "text/plain": [
       "\"32\""
      ]
     },
     "execution_count": 7,
     "metadata": {},
     "output_type": "execute_result"
    }
   ],
   "source": [
    "string(32)"
   ]
  },
  {
   "cell_type": "code",
   "execution_count": 6,
   "metadata": {},
   "outputs": [
    {
     "data": {
      "text/plain": [
       "3"
      ]
     },
     "execution_count": 6,
     "metadata": {},
     "output_type": "execute_result"
    }
   ],
   "source": [
    "trunc(Int64, 3.99999)"
   ]
  },
  {
   "cell_type": "markdown",
   "metadata": {},
   "source": [
    "## Math Functions - دوال رياضية"
   ]
  },
  {
   "cell_type": "code",
   "execution_count": 8,
   "metadata": {
    "scrolled": true
   },
   "outputs": [
    {
     "data": {
      "text/html": [
       "    <iframe width=\"560\" height=\"315\"\n",
       "    src=\"https://www.youtube.com/embed/R_7YsLcBH5U?start=430&end=599&rel=0&showinfo=0\"\n",
       "    frameborder=\"0\" allowfullscreen>\n",
       "    </iframe>\n"
      ],
      "text/plain": [
       "HTML{String}(\"    <iframe width=\\\"560\\\" height=\\\"315\\\"\\n    src=\\\"https://www.youtube.com/embed/R_7YsLcBH5U?start=430&end=599&rel=0&showinfo=0\\\"\\n    frameborder=\\\"0\\\" allowfullscreen>\\n    </iframe>\\n\")"
      ]
     },
     "execution_count": 8,
     "metadata": {},
     "output_type": "execute_result"
    }
   ],
   "source": [
    "Utils.read_youtube(\"R_7YsLcBH5U\", \"7:10\", \"9:59\")"
   ]
  },
  {
   "cell_type": "code",
   "execution_count": 16,
   "metadata": {},
   "outputs": [
    {
     "data": {
      "text/plain": [
       "0.7071067811865475"
      ]
     },
     "execution_count": 16,
     "metadata": {},
     "output_type": "execute_result"
    }
   ],
   "source": [
    "degrees = 45\n",
    "radians = degrees / 180 * π\n",
    "sin(radians)"
   ]
  },
  {
   "cell_type": "code",
   "execution_count": 17,
   "metadata": {},
   "outputs": [
    {
     "data": {
      "text/plain": [
       "0.7071067811865476"
      ]
     },
     "execution_count": 17,
     "metadata": {},
     "output_type": "execute_result"
    }
   ],
   "source": [
    "sqrt(2) / 2"
   ]
  },
  {
   "cell_type": "markdown",
   "metadata": {},
   "source": [
    "## Composition - تركيب"
   ]
  },
  {
   "cell_type": "code",
   "execution_count": 11,
   "metadata": {},
   "outputs": [
    {
     "data": {
      "text/html": [
       "    <iframe width=\"560\" height=\"315\"\n",
       "    src=\"https://www.youtube.com/embed/R_7YsLcBH5U?start=599&end=883&rel=0&showinfo=0\"\n",
       "    frameborder=\"0\" allowfullscreen>\n",
       "    </iframe>\n"
      ],
      "text/plain": [
       "HTML{String}(\"    <iframe width=\\\"560\\\" height=\\\"315\\\"\\n    src=\\\"https://www.youtube.com/embed/R_7YsLcBH5U?start=599&end=883&rel=0&showinfo=0\\\"\\n    frameborder=\\\"0\\\" allowfullscreen>\\n    </iframe>\\n\")"
      ]
     },
     "execution_count": 11,
     "metadata": {},
     "output_type": "execute_result"
    }
   ],
   "source": [
    "Utils.read_youtube(\"R_7YsLcBH5U\", \"9:59\", \"14:43\")"
   ]
  },
  {
   "cell_type": "code",
   "execution_count": 10,
   "metadata": {},
   "outputs": [
    {
     "data": {
      "text/plain": [
       "11.000000000000002"
      ]
     },
     "execution_count": 10,
     "metadata": {},
     "output_type": "execute_result"
    }
   ],
   "source": [
    "x = 10\n",
    "exp(log(x + 1))"
   ]
  },
  {
   "cell_type": "markdown",
   "metadata": {},
   "source": [
    "## Adding New Functions - إضافة دوال جديدة"
   ]
  },
  {
   "cell_type": "code",
   "execution_count": 12,
   "metadata": {},
   "outputs": [
    {
     "data": {
      "text/html": [
       "    <iframe width=\"560\" height=\"315\"\n",
       "    src=\"https://www.youtube.com/embed/R_7YsLcBH5U?start=883&end=1355&rel=0&showinfo=0\"\n",
       "    frameborder=\"0\" allowfullscreen>\n",
       "    </iframe>\n"
      ],
      "text/plain": [
       "HTML{String}(\"    <iframe width=\\\"560\\\" height=\\\"315\\\"\\n    src=\\\"https://www.youtube.com/embed/R_7YsLcBH5U?start=883&end=1355&rel=0&showinfo=0\\\"\\n    frameborder=\\\"0\\\" allowfullscreen>\\n    </iframe>\\n\")"
      ]
     },
     "execution_count": 12,
     "metadata": {},
     "output_type": "execute_result"
    }
   ],
   "source": [
    "Utils.read_youtube(\"R_7YsLcBH5U\", \"14:43\", \"22:35\")"
   ]
  },
  {
   "cell_type": "code",
   "execution_count": 13,
   "metadata": {},
   "outputs": [
    {
     "data": {
      "text/plain": [
       "printlyrics (generic function with 1 method)"
      ]
     },
     "execution_count": 13,
     "metadata": {},
     "output_type": "execute_result"
    }
   ],
   "source": [
    "# مثال لتعريف دالة\n",
    "function printlyrics()\n",
    "    println(\"I'm a lumberjack, and I'm okay.\")\n",
    "    println(\"I sleep all night and I work all day.\")\n",
    "end"
   ]
  },
  {
   "cell_type": "code",
   "execution_count": 14,
   "metadata": {},
   "outputs": [
    {
     "name": "stdout",
     "output_type": "stream",
     "text": [
      "I'm a lumberjack, and I'm okay.\n",
      "I sleep all night and I work all day.\n"
     ]
    }
   ],
   "source": [
    "# مثال لنداء دالة\n",
    "printlyrics()"
   ]
  },
  {
   "cell_type": "code",
   "execution_count": 15,
   "metadata": {},
   "outputs": [
    {
     "name": "stdout",
     "output_type": "stream",
     "text": [
      "I'm a lumberjack, and I'm okay.\n",
      "I sleep all night and I work all day.\n",
      "I'm a lumberjack, and I'm okay.\n",
      "I sleep all night and I work all day.\n"
     ]
    }
   ],
   "source": [
    "# مثال على تركيب الدوال \n",
    "function repeatlyrics()\n",
    "    printlyrics()\n",
    "    printlyrics()\n",
    "end\n",
    "\n",
    "repeatlyrics()"
   ]
  },
  {
   "cell_type": "markdown",
   "metadata": {},
   "source": [
    "## Definitions and Uses -  تعاريف و استعمالات"
   ]
  },
  {
   "cell_type": "code",
   "execution_count": 19,
   "metadata": {},
   "outputs": [
    {
     "data": {
      "text/html": [
       "    <iframe width=\"560\" height=\"315\"\n",
       "    src=\"https://www.youtube.com/embed/R_7YsLcBH5U?start=1355&end=1644&rel=0&showinfo=0\"\n",
       "    frameborder=\"0\" allowfullscreen>\n",
       "    </iframe>\n"
      ],
      "text/plain": [
       "HTML{String}(\"    <iframe width=\\\"560\\\" height=\\\"315\\\"\\n    src=\\\"https://www.youtube.com/embed/R_7YsLcBH5U?start=1355&end=1644&rel=0&showinfo=0\\\"\\n    frameborder=\\\"0\\\" allowfullscreen>\\n    </iframe>\\n\")"
      ]
     },
     "execution_count": 19,
     "metadata": {},
     "output_type": "execute_result"
    }
   ],
   "source": [
    "Utils.read_youtube(\"R_7YsLcBH5U\", \"22:35\", \"27:24\")"
   ]
  },
  {
   "cell_type": "markdown",
   "metadata": {},
   "source": [
    "## Flow of Execution - مجرى التنفيذ"
   ]
  },
  {
   "cell_type": "code",
   "execution_count": 20,
   "metadata": {},
   "outputs": [
    {
     "data": {
      "text/html": [
       "    <iframe width=\"560\" height=\"315\"\n",
       "    src=\"https://www.youtube.com/embed/R_7YsLcBH5U?start=1644&end=1868&rel=0&showinfo=0\"\n",
       "    frameborder=\"0\" allowfullscreen>\n",
       "    </iframe>\n"
      ],
      "text/plain": [
       "HTML{String}(\"    <iframe width=\\\"560\\\" height=\\\"315\\\"\\n    src=\\\"https://www.youtube.com/embed/R_7YsLcBH5U?start=1644&end=1868&rel=0&showinfo=0\\\"\\n    frameborder=\\\"0\\\" allowfullscreen>\\n    </iframe>\\n\")"
      ]
     },
     "execution_count": 20,
     "metadata": {},
     "output_type": "execute_result"
    }
   ],
   "source": [
    "Utils.read_youtube(\"R_7YsLcBH5U\", \"27:24\", \"31:08\")"
   ]
  },
  {
   "cell_type": "markdown",
   "metadata": {},
   "source": [
    "## Parameters & Arguments - وسائط و مداخل"
   ]
  },
  {
   "cell_type": "code",
   "execution_count": 21,
   "metadata": {},
   "outputs": [
    {
     "data": {
      "text/html": [
       "    <iframe width=\"560\" height=\"315\"\n",
       "    src=\"https://www.youtube.com/embed/R_7YsLcBH5U?start=1868&end=2250&rel=0&showinfo=0\"\n",
       "    frameborder=\"0\" allowfullscreen>\n",
       "    </iframe>\n"
      ],
      "text/plain": [
       "HTML{String}(\"    <iframe width=\\\"560\\\" height=\\\"315\\\"\\n    src=\\\"https://www.youtube.com/embed/R_7YsLcBH5U?start=1868&end=2250&rel=0&showinfo=0\\\"\\n    frameborder=\\\"0\\\" allowfullscreen>\\n    </iframe>\\n\")"
      ]
     },
     "execution_count": 21,
     "metadata": {},
     "output_type": "execute_result"
    }
   ],
   "source": [
    "Utils.read_youtube(\"R_7YsLcBH5U\", \"31:08\", \"37:30\")"
   ]
  },
  {
   "cell_type": "markdown",
   "metadata": {},
   "source": [
    "## Variables and Parameters Are Local -   المتغيرات و الوسائط (برامترات) هي محلية"
   ]
  },
  {
   "cell_type": "code",
   "execution_count": 23,
   "metadata": {},
   "outputs": [
    {
     "data": {
      "text/html": [
       "    <iframe width=\"560\" height=\"315\"\n",
       "    src=\"https://www.youtube.com/embed/R_7YsLcBH5U?start=2250&end=2553&rel=0&showinfo=0\"\n",
       "    frameborder=\"0\" allowfullscreen>\n",
       "    </iframe>\n"
      ],
      "text/plain": [
       "HTML{String}(\"    <iframe width=\\\"560\\\" height=\\\"315\\\"\\n    src=\\\"https://www.youtube.com/embed/R_7YsLcBH5U?start=2250&end=2553&rel=0&showinfo=0\\\"\\n    frameborder=\\\"0\\\" allowfullscreen>\\n    </iframe>\\n\")"
      ]
     },
     "execution_count": 23,
     "metadata": {},
     "output_type": "execute_result"
    }
   ],
   "source": [
    "Utils.read_youtube(\"R_7YsLcBH5U\", \"37:30\", \"42:33\")"
   ]
  },
  {
   "cell_type": "markdown",
   "metadata": {},
   "source": [
    "## Stack Diagram - رسم بياني لِسْتاك (مكدس)"
   ]
  },
  {
   "cell_type": "code",
   "execution_count": 25,
   "metadata": {},
   "outputs": [
    {
     "data": {
      "text/html": [
       "    <iframe width=\"560\" height=\"315\"\n",
       "    src=\"https://www.youtube.com/embed/R_7YsLcBH5U?start=2553&end=2964&rel=0&showinfo=0\"\n",
       "    frameborder=\"0\" allowfullscreen>\n",
       "    </iframe>\n"
      ],
      "text/plain": [
       "HTML{String}(\"    <iframe width=\\\"560\\\" height=\\\"315\\\"\\n    src=\\\"https://www.youtube.com/embed/R_7YsLcBH5U?start=2553&end=2964&rel=0&showinfo=0\\\"\\n    frameborder=\\\"0\\\" allowfullscreen>\\n    </iframe>\\n\")"
      ]
     },
     "execution_count": 25,
     "metadata": {},
     "output_type": "execute_result"
    }
   ],
   "source": [
    "Utils.read_youtube(\"R_7YsLcBH5U\", \"42:33\", \"49:24\")"
   ]
  },
  {
   "cell_type": "markdown",
   "metadata": {},
   "source": [
    "## Fruitful Functions and Void Functions - دوال مثمرة و دوال خالية"
   ]
  },
  {
   "cell_type": "code",
   "execution_count": 36,
   "metadata": {},
   "outputs": [
    {
     "data": {
      "text/html": [
       "    <iframe width=\"560\" height=\"315\"\n",
       "    src=\"https://www.youtube.com/embed/R_7YsLcBH5U?start=2964&end=3123&rel=0&showinfo=0\"\n",
       "    frameborder=\"0\" allowfullscreen>\n",
       "    </iframe>\n"
      ],
      "text/plain": [
       "HTML{String}(\"    <iframe width=\\\"560\\\" height=\\\"315\\\"\\n    src=\\\"https://www.youtube.com/embed/R_7YsLcBH5U?start=2964&end=3123&rel=0&showinfo=0\\\"\\n    frameborder=\\\"0\\\" allowfullscreen>\\n    </iframe>\\n\")"
      ]
     },
     "execution_count": 36,
     "metadata": {},
     "output_type": "execute_result"
    }
   ],
   "source": [
    "Utils.read_youtube(\"R_7YsLcBH5U\", \"49:24\", \"52:03\")"
   ]
  },
  {
   "cell_type": "code",
   "execution_count": 46,
   "metadata": {},
   "outputs": [
    {
     "data": {
      "text/plain": [
       "2.0"
      ]
     },
     "execution_count": 46,
     "metadata": {},
     "output_type": "execute_result"
    }
   ],
   "source": [
    "# مثال لدالة مثمرة\n",
    "result = sqrt(4)"
   ]
  },
  {
   "cell_type": "code",
   "execution_count": 47,
   "metadata": {},
   "outputs": [
    {
     "data": {
      "text/plain": [
       "Float64"
      ]
     },
     "execution_count": 47,
     "metadata": {},
     "output_type": "execute_result"
    }
   ],
   "source": [
    "typeof(result)"
   ]
  },
  {
   "cell_type": "code",
   "execution_count": 43,
   "metadata": {},
   "outputs": [
    {
     "name": "stdout",
     "output_type": "stream",
     "text": [
      "Hello world!\n"
     ]
    }
   ],
   "source": [
    "# مثال لدالة غير مثمرة\n",
    "void_result = println(\"Hello world!\")"
   ]
  },
  {
   "cell_type": "code",
   "execution_count": 44,
   "metadata": {},
   "outputs": [
    {
     "name": "stdout",
     "output_type": "stream",
     "text": [
      "nothing"
     ]
    }
   ],
   "source": [
    "show(void_result)"
   ]
  },
  {
   "cell_type": "code",
   "execution_count": 45,
   "metadata": {},
   "outputs": [
    {
     "data": {
      "text/plain": [
       "Nothing"
      ]
     },
     "execution_count": 45,
     "metadata": {},
     "output_type": "execute_result"
    }
   ],
   "source": [
    "typeof(nothing)"
   ]
  },
  {
   "cell_type": "markdown",
   "metadata": {},
   "source": [
    "## Why Functions? - الدوال لما؟"
   ]
  },
  {
   "cell_type": "code",
   "execution_count": 48,
   "metadata": {},
   "outputs": [
    {
     "data": {
      "text/html": [
       "    <iframe width=\"560\" height=\"315\"\n",
       "    src=\"https://www.youtube.com/embed/R_7YsLcBH5U?start=3123&end=3394&rel=0&showinfo=0\"\n",
       "    frameborder=\"0\" allowfullscreen>\n",
       "    </iframe>\n"
      ],
      "text/plain": [
       "HTML{String}(\"    <iframe width=\\\"560\\\" height=\\\"315\\\"\\n    src=\\\"https://www.youtube.com/embed/R_7YsLcBH5U?start=3123&end=3394&rel=0&showinfo=0\\\"\\n    frameborder=\\\"0\\\" allowfullscreen>\\n    </iframe>\\n\")"
      ]
     },
     "execution_count": 48,
     "metadata": {},
     "output_type": "execute_result"
    }
   ],
   "source": [
    "Utils.read_youtube(\"R_7YsLcBH5U\", \"52:03\", \"56:34\")"
   ]
  },
  {
   "cell_type": "markdown",
   "metadata": {},
   "source": [
    "+ تحسين سهولة قرأءة الكود بتقسيمه لوحدات ذات أسماء تبين وضيفتها\n",
    "+ أﻹيجاز في صياغة الكود بتفادي التكرار مما يسهل تغيره فيما بعد\n",
    "+ تطوير وحدات مجربة يتم تركيبها لصياغة الكود الكامل\n",
    "+ الوحدات جيدة التصميم يمكن استعمالها في برامج متعددة\n",
    "+ في جولية الدوال تحسن سرعة اﻷداء"
   ]
  },
  {
   "cell_type": "markdown",
   "metadata": {},
   "source": [
    "# Debugging"
   ]
  },
  {
   "cell_type": "code",
   "execution_count": 49,
   "metadata": {},
   "outputs": [
    {
     "data": {
      "text/html": [
       "    <iframe width=\"560\" height=\"315\"\n",
       "    src=\"https://www.youtube.com/embed/R_7YsLcBH5U?start=3394&end=3538&rel=0&showinfo=0\"\n",
       "    frameborder=\"0\" allowfullscreen>\n",
       "    </iframe>\n"
      ],
      "text/plain": [
       "HTML{String}(\"    <iframe width=\\\"560\\\" height=\\\"315\\\"\\n    src=\\\"https://www.youtube.com/embed/R_7YsLcBH5U?start=3394&end=3538&rel=0&showinfo=0\\\"\\n    frameborder=\\\"0\\\" allowfullscreen>\\n    </iframe>\\n\")"
      ]
     },
     "execution_count": 49,
     "metadata": {},
     "output_type": "execute_result"
    }
   ],
   "source": [
    "Utils.read_youtube(\"R_7YsLcBH5U\", \"56:34\", \"58:58\")"
   ]
  },
  {
   "cell_type": "markdown",
   "metadata": {},
   "source": [
    "## مصطلحات - Glossary"
   ]
  },
  {
   "cell_type": "code",
   "execution_count": 51,
   "metadata": {},
   "outputs": [
    {
     "data": {
      "text/html": [
       "    <iframe width=\"560\" height=\"315\"\n",
       "    src=\"https://www.youtube.com/embed/R_7YsLcBH5U?start=3538&end=3803&rel=0&showinfo=0\"\n",
       "    frameborder=\"0\" allowfullscreen>\n",
       "    </iframe>\n"
      ],
      "text/plain": [
       "HTML{String}(\"    <iframe width=\\\"560\\\" height=\\\"315\\\"\\n    src=\\\"https://www.youtube.com/embed/R_7YsLcBH5U?start=3538&end=3803&rel=0&showinfo=0\\\"\\n    frameborder=\\\"0\\\" allowfullscreen>\\n    </iframe>\\n\")"
      ]
     },
     "execution_count": 51,
     "metadata": {},
     "output_type": "execute_result"
    }
   ],
   "source": [
    "Utils.read_youtube(\"R_7YsLcBH5U\", \"58:58\", \"1:03:23\")"
   ]
  },
  {
   "cell_type": "markdown",
   "metadata": {},
   "source": [
    "## تمارين - Exercises"
   ]
  },
  {
   "cell_type": "code",
   "execution_count": 52,
   "metadata": {},
   "outputs": [
    {
     "data": {
      "text/html": [
       "    <iframe width=\"560\" height=\"315\"\n",
       "    src=\"https://www.youtube.com/embed/R_7YsLcBH5U?start=3803&end=3988&rel=0&showinfo=0\"\n",
       "    frameborder=\"0\" allowfullscreen>\n",
       "    </iframe>\n"
      ],
      "text/plain": [
       "HTML{String}(\"    <iframe width=\\\"560\\\" height=\\\"315\\\"\\n    src=\\\"https://www.youtube.com/embed/R_7YsLcBH5U?start=3803&end=3988&rel=0&showinfo=0\\\"\\n    frameborder=\\\"0\\\" allowfullscreen>\\n    </iframe>\\n\")"
      ]
     },
     "execution_count": 52,
     "metadata": {},
     "output_type": "execute_result"
    }
   ],
   "source": [
    "Utils.read_youtube(\"R_7YsLcBH5U\", \"1:03:23\", \"1:06:28\")"
   ]
  },
  {
   "cell_type": "markdown",
   "metadata": {},
   "source": [
    "##### Ex 3.2:\n",
    "\n",
    "Write a function named rightjustify that takes a string named s as a parameter and prints the string with enough leading spaces so that the last letter of the string is in column 70 of the display.\n",
    "\n",
    "اكتب دالة باسم\n",
    "\n",
    "`rightjustify`\n",
    "\n",
    "تأخذ نص (سلسلة) يسمى\n",
    "\n",
    "s\n",
    "\n",
    "كمعامل (وسيط) وتطبع هذا النص تتقدمه فضائات كافية بحيث يكون الحرف الأخير من السلسلة في العمود 70 من العرض\n",
    "\n",
    "مثال لاستعمال هذه الدالة:\n",
    "```julia\n",
    "rightjustify(\"monty\")\n",
    "```"
   ]
  },
  {
   "cell_type": "code",
   "execution_count": null,
   "metadata": {},
   "outputs": [],
   "source": []
  },
  {
   "cell_type": "markdown",
   "metadata": {},
   "source": [
    "##### Ex. 3.3:\n",
    "[نص التمرين على كتاب ثنك جوليا](https://benlauwens.github.io/ThinkJulia.jl/latest/book.html#_exercises_3)\n",
    "\n",
    "كائن (أو شيء) الدالة هو قيمة يمكنك تعيينها لمتغير أو تمريرها كوسيط. على سبيل المثال، \n",
    "\n",
    "`dotwice دووتوايس`\n",
    "\n",
    "هي دالة تأخذ كائن دالة كوسيط وتستدعيها مرتين\n",
    "\n",
    "```julia\n",
    "function dotwice(f)\n",
    "    f()\n",
    "    f()\n",
    "end\n",
    "```\n",
    "هذا مثل لكيفية استعمالها مع دالة تطبع كلمة\n",
    "\n",
    "`spam`\n",
    "\n",
    "```julia\n",
    "function printspam()\n",
    "    println(\"spam\")\n",
    "end\n",
    "\n",
    "dotwice(printspam)\n",
    "```\n",
    "\n",
    "1- اكتب هذا المثال في برنامج نصي سكريبت واختبره.\n",
    "\n",
    "2-  قم بتعديل `دووتوايس` بحيث تأخذ وسيطين ، كائن دالة د وقيمة ق ، ويستدعي الدالة د مرتين ، يمرر في كل نداء القيمة ق المعطاة كوسيط\n",
    "\n",
    "3- قم بتعديل الدالة التالية باستعمال `دووتوايس`\n",
    "\n",
    "```julia\n",
    "function printtwice(bruce)\n",
    "    println(bruce)\n",
    "    println(bruce)\n",
    "end\n",
    "```\n",
    "4- عرف دالة جديدة تدعى\n",
    "\n",
    "`dofour دووفور `\n",
    "\n",
    "بحيث تأخذ وسيطين ، كائن دالة د وقيمة ق ، ويستدعي الدالة د 4 مرات ، يمرر في كل نداء القيمة ق المعطاة كوسيط\n",
    "\n",
    "يجب عدم تجاوز تعليمتين في صياغة جسد الدالة"
   ]
  },
  {
   "cell_type": "code",
   "execution_count": null,
   "metadata": {},
   "outputs": [],
   "source": []
  },
  {
   "cell_type": "markdown",
   "metadata": {},
   "source": [
    "##### Ex. 3.4:\n",
    "\n",
    "عرف دالة ترسم شبكة مثل ما يلي\n",
    "\n",
    "\n",
    "```julia\n",
    "julia> printgrid()\n",
    "+ - - - - + - - - - +\n",
    "|         |         |\n",
    "|         |         |\n",
    "|         |         |\n",
    "|         |         |\n",
    "+ - - - - + - - - - +\n",
    "|         |         |\n",
    "|         |         |\n",
    "|         |         |\n",
    "|         |         |\n",
    "+ - - - - + - - - - +\n",
    "```\n",
    "عرف دالة مشابهة تطبع شبكة ب 4 صفوف و 4 أعمدة\n"
   ]
  },
  {
   "cell_type": "code",
   "execution_count": null,
   "metadata": {},
   "outputs": [],
   "source": []
  }
 ],
 "metadata": {
  "kernelspec": {
   "display_name": "Julia 1.5.0",
   "language": "julia",
   "name": "julia-1.5"
  },
  "language_info": {
   "file_extension": ".jl",
   "mimetype": "application/julia",
   "name": "julia",
   "version": "1.5.0"
  }
 },
 "nbformat": 4,
 "nbformat_minor": 4
}
