{
 "cells": [
  {
   "cell_type": "markdown",
   "metadata": {},
   "source": [
    "إستعمل هذا الزر لتشغيل بايندر\n",
    "\n",
    "[![Binder](http://mybinder.org/badge_logo.svg)](https://mybinder.org/v2/gh/faris-digital/ThinkJulia_Examples_Arabic/master?urlpath=lab)"
   ]
  },
  {
   "cell_type": "markdown",
   "metadata": {},
   "source": [
    "لتشغيل الخلايا إضغط \n",
    "\n",
    "SHIFT + ENTER أو CTRL + ENTER"
   ]
  },
  {
   "cell_type": "code",
   "execution_count": 2,
   "metadata": {
    "scrolled": true
   },
   "outputs": [
    {
     "data": {
      "text/plain": [
       "Main.Utils"
      ]
     },
     "execution_count": 2,
     "metadata": {},
     "output_type": "execute_result"
    }
   ],
   "source": [
    "include(\"../utils.jl\")"
   ]
  },
  {
   "cell_type": "markdown",
   "metadata": {},
   "source": [
    "# سبيل البرنامج - The Way of The Program  "
   ]
  },
  {
   "cell_type": "code",
   "execution_count": 3,
   "metadata": {},
   "outputs": [
    {
     "data": {
      "text/html": [
       "    <iframe width=\"560\" height=\"315\"\n",
       "    src=\"https://www.youtube.com/embed/9iIlBaZXiF0?start=1&end=330&rel=0&showinfo=0\"\n",
       "    frameborder=\"0\" allowfullscreen>\n",
       "    </iframe>\n"
      ],
      "text/plain": [
       "HTML{String}(\"    <iframe width=\\\"560\\\" height=\\\"315\\\"\\n    src=\\\"https://www.youtube.com/embed/9iIlBaZXiF0?start=1&end=330&rel=0&showinfo=0\\\"\\n    frameborder=\\\"0\\\" allowfullscreen>\\n    </iframe>\\n\")"
      ]
     },
     "execution_count": 3,
     "metadata": {},
     "output_type": "execute_result"
    }
   ],
   "source": [
    "Utils.read_youtube(\"9iIlBaZXiF0\", \"5:30\")"
   ]
  },
  {
   "cell_type": "markdown",
   "metadata": {},
   "source": [
    "##   البرنامج ما هو؟ - What is a Program?"
   ]
  },
  {
   "cell_type": "code",
   "execution_count": 4,
   "metadata": {},
   "outputs": [
    {
     "data": {
      "text/html": [
       "    <iframe width=\"560\" height=\"315\"\n",
       "    src=\"https://www.youtube.com/embed/9iIlBaZXiF0?start=330&end=516&rel=0&showinfo=0\"\n",
       "    frameborder=\"0\" allowfullscreen>\n",
       "    </iframe>\n"
      ],
      "text/plain": [
       "HTML{String}(\"    <iframe width=\\\"560\\\" height=\\\"315\\\"\\n    src=\\\"https://www.youtube.com/embed/9iIlBaZXiF0?start=330&end=516&rel=0&showinfo=0\\\"\\n    frameborder=\\\"0\\\" allowfullscreen>\\n    </iframe>\\n\")"
      ]
     },
     "execution_count": 4,
     "metadata": {},
     "output_type": "execute_result"
    }
   ],
   "source": [
    "Utils.read_youtube(\"9iIlBaZXiF0\", \"5:30\", \"8:36\")"
   ]
  },
  {
   "cell_type": "markdown",
   "metadata": {},
   "source": [
    "## تشغيل جولية - Running Julia"
   ]
  },
  {
   "cell_type": "code",
   "execution_count": 5,
   "metadata": {},
   "outputs": [
    {
     "data": {
      "text/html": [
       "    <iframe width=\"560\" height=\"315\"\n",
       "    src=\"https://www.youtube.com/embed/9iIlBaZXiF0?start=516&end=675&rel=0&showinfo=0\"\n",
       "    frameborder=\"0\" allowfullscreen>\n",
       "    </iframe>\n"
      ],
      "text/plain": [
       "HTML{String}(\"    <iframe width=\\\"560\\\" height=\\\"315\\\"\\n    src=\\\"https://www.youtube.com/embed/9iIlBaZXiF0?start=516&end=675&rel=0&showinfo=0\\\"\\n    frameborder=\\\"0\\\" allowfullscreen>\\n    </iframe>\\n\")"
      ]
     },
     "execution_count": 5,
     "metadata": {},
     "output_type": "execute_result"
    }
   ],
   "source": [
    "Utils.read_youtube(\"9iIlBaZXiF0\", \"8:36\", \"11:15\")"
   ]
  },
  {
   "cell_type": "markdown",
   "metadata": {},
   "source": [
    "## البرنامج اﻷول - The First Program"
   ]
  },
  {
   "cell_type": "code",
   "execution_count": 6,
   "metadata": {},
   "outputs": [
    {
     "data": {
      "text/html": [
       "    <iframe width=\"560\" height=\"315\"\n",
       "    src=\"https://www.youtube.com/embed/9iIlBaZXiF0?start=675&end=862&rel=0&showinfo=0\"\n",
       "    frameborder=\"0\" allowfullscreen>\n",
       "    </iframe>\n"
      ],
      "text/plain": [
       "HTML{String}(\"    <iframe width=\\\"560\\\" height=\\\"315\\\"\\n    src=\\\"https://www.youtube.com/embed/9iIlBaZXiF0?start=675&end=862&rel=0&showinfo=0\\\"\\n    frameborder=\\\"0\\\" allowfullscreen>\\n    </iframe>\\n\")"
      ]
     },
     "execution_count": 6,
     "metadata": {},
     "output_type": "execute_result"
    }
   ],
   "source": [
    "Utils.read_youtube(\"9iIlBaZXiF0\", \"11:15\", \"14:22\")"
   ]
  },
  {
   "cell_type": "markdown",
   "metadata": {},
   "source": [
    "## العمليات الحسابية - Arithmetic Operators"
   ]
  },
  {
   "cell_type": "code",
   "execution_count": 7,
   "metadata": {},
   "outputs": [
    {
     "data": {
      "text/html": [
       "    <iframe width=\"560\" height=\"315\"\n",
       "    src=\"https://www.youtube.com/embed/9iIlBaZXiF0?start=862&end=1012&rel=0&showinfo=0\"\n",
       "    frameborder=\"0\" allowfullscreen>\n",
       "    </iframe>\n"
      ],
      "text/plain": [
       "HTML{String}(\"    <iframe width=\\\"560\\\" height=\\\"315\\\"\\n    src=\\\"https://www.youtube.com/embed/9iIlBaZXiF0?start=862&end=1012&rel=0&showinfo=0\\\"\\n    frameborder=\\\"0\\\" allowfullscreen>\\n    </iframe>\\n\")"
      ]
     },
     "execution_count": 7,
     "metadata": {},
     "output_type": "execute_result"
    }
   ],
   "source": [
    "Utils.read_youtube(\"9iIlBaZXiF0\", \"14:22\", \"16:52\")"
   ]
  },
  {
   "cell_type": "markdown",
   "metadata": {},
   "source": [
    "## قيم و أنواع - Values & Types"
   ]
  },
  {
   "cell_type": "code",
   "execution_count": 8,
   "metadata": {},
   "outputs": [
    {
     "data": {
      "text/html": [
       "    <iframe width=\"560\" height=\"315\"\n",
       "    src=\"https://www.youtube.com/embed/9iIlBaZXiF0?start=1012&end=1351&rel=0&showinfo=0\"\n",
       "    frameborder=\"0\" allowfullscreen>\n",
       "    </iframe>\n"
      ],
      "text/plain": [
       "HTML{String}(\"    <iframe width=\\\"560\\\" height=\\\"315\\\"\\n    src=\\\"https://www.youtube.com/embed/9iIlBaZXiF0?start=1012&end=1351&rel=0&showinfo=0\\\"\\n    frameborder=\\\"0\\\" allowfullscreen>\\n    </iframe>\\n\")"
      ]
     },
     "execution_count": 8,
     "metadata": {},
     "output_type": "execute_result"
    }
   ],
   "source": [
    "Utils.read_youtube(\"9iIlBaZXiF0\", \"16:52\", \"22:31\")"
   ]
  },
  {
   "cell_type": "markdown",
   "metadata": {},
   "source": [
    "## لغات إصطلاحية و طبيعية - Formal and Natural Languages"
   ]
  },
  {
   "cell_type": "code",
   "execution_count": 9,
   "metadata": {},
   "outputs": [
    {
     "data": {
      "text/html": [
       "    <iframe width=\"560\" height=\"315\"\n",
       "    src=\"https://www.youtube.com/embed/9iIlBaZXiF0?start=1351&end=1842&rel=0&showinfo=0\"\n",
       "    frameborder=\"0\" allowfullscreen>\n",
       "    </iframe>\n"
      ],
      "text/plain": [
       "HTML{String}(\"    <iframe width=\\\"560\\\" height=\\\"315\\\"\\n    src=\\\"https://www.youtube.com/embed/9iIlBaZXiF0?start=1351&end=1842&rel=0&showinfo=0\\\"\\n    frameborder=\\\"0\\\" allowfullscreen>\\n    </iframe>\\n\")"
      ]
     },
     "execution_count": 9,
     "metadata": {},
     "output_type": "execute_result"
    }
   ],
   "source": [
    "Utils.read_youtube(\"9iIlBaZXiF0\", \"22:31\", \"30:42\")"
   ]
  },
  {
   "cell_type": "markdown",
   "metadata": {},
   "source": [
    "## Debugging"
   ]
  },
  {
   "cell_type": "code",
   "execution_count": 10,
   "metadata": {},
   "outputs": [
    {
     "data": {
      "text/html": [
       "    <iframe width=\"560\" height=\"315\"\n",
       "    src=\"https://www.youtube.com/embed/9iIlBaZXiF0?start=1842&end=2030&rel=0&showinfo=0\"\n",
       "    frameborder=\"0\" allowfullscreen>\n",
       "    </iframe>\n"
      ],
      "text/plain": [
       "HTML{String}(\"    <iframe width=\\\"560\\\" height=\\\"315\\\"\\n    src=\\\"https://www.youtube.com/embed/9iIlBaZXiF0?start=1842&end=2030&rel=0&showinfo=0\\\"\\n    frameborder=\\\"0\\\" allowfullscreen>\\n    </iframe>\\n\")"
      ]
     },
     "execution_count": 10,
     "metadata": {},
     "output_type": "execute_result"
    }
   ],
   "source": [
    "Utils.read_youtube(\"9iIlBaZXiF0\", \"30:42\", \"33:50\")"
   ]
  },
  {
   "cell_type": "markdown",
   "metadata": {},
   "source": [
    "## مصطلحات - Glossary"
   ]
  },
  {
   "cell_type": "code",
   "execution_count": 11,
   "metadata": {},
   "outputs": [
    {
     "data": {
      "text/html": [
       "    <iframe width=\"560\" height=\"315\"\n",
       "    src=\"https://www.youtube.com/embed/9iIlBaZXiF0?start=2030&end=2368&rel=0&showinfo=0\"\n",
       "    frameborder=\"0\" allowfullscreen>\n",
       "    </iframe>\n"
      ],
      "text/plain": [
       "HTML{String}(\"    <iframe width=\\\"560\\\" height=\\\"315\\\"\\n    src=\\\"https://www.youtube.com/embed/9iIlBaZXiF0?start=2030&end=2368&rel=0&showinfo=0\\\"\\n    frameborder=\\\"0\\\" allowfullscreen>\\n    </iframe>\\n\")"
      ]
     },
     "execution_count": 11,
     "metadata": {},
     "output_type": "execute_result"
    }
   ],
   "source": [
    "Utils.read_youtube(\"9iIlBaZXiF0\", \"33:50\", \"39:28\")"
   ]
  },
  {
   "cell_type": "markdown",
   "metadata": {},
   "source": [
    "## تمارين - Exercises"
   ]
  },
  {
   "cell_type": "code",
   "execution_count": 12,
   "metadata": {},
   "outputs": [
    {
     "data": {
      "text/html": [
       "    <iframe width=\"560\" height=\"315\"\n",
       "    src=\"https://www.youtube.com/embed/9iIlBaZXiF0?start=2368&end=2623&rel=0&showinfo=0\"\n",
       "    frameborder=\"0\" allowfullscreen>\n",
       "    </iframe>\n"
      ],
      "text/plain": [
       "HTML{String}(\"    <iframe width=\\\"560\\\" height=\\\"315\\\"\\n    src=\\\"https://www.youtube.com/embed/9iIlBaZXiF0?start=2368&end=2623&rel=0&showinfo=0\\\"\\n    frameborder=\\\"0\\\" allowfullscreen>\\n    </iframe>\\n\")"
      ]
     },
     "execution_count": 12,
     "metadata": {},
     "output_type": "execute_result"
    }
   ],
   "source": [
    "Utils.read_youtube(\"9iIlBaZXiF0\", \"39:28\", \"43:43\")"
   ]
  },
  {
   "cell_type": "markdown",
   "metadata": {},
   "source": [
    "##### Ex. 1.2.1:\n",
    "\n",
    "How many seconds are there in 42 minutes 42 seconds?\n",
    "\n",
    "أحسب كم هناك من ثانية في 42 دقيقة و 42 ثانية؟"
   ]
  },
  {
   "cell_type": "code",
   "execution_count": null,
   "metadata": {},
   "outputs": [],
   "source": []
  },
  {
   "cell_type": "markdown",
   "metadata": {},
   "source": [
    "##### Ex. 1.2.2:\n",
    "\n",
    "How many miles are there in 10 kilometers? (Tip: There are 1.61 kilometers in a mile.)\n",
    "\n",
    "أحسب كم من كيلومتر في 10 أميال علماً أن هناك 1.61 كيلومتر في الميل الواحد."
   ]
  },
  {
   "cell_type": "code",
   "execution_count": null,
   "metadata": {},
   "outputs": [],
   "source": []
  },
  {
   "cell_type": "markdown",
   "metadata": {},
   "source": [
    "##### Ex. 1.2.3:\n",
    "\n",
    "If you run a 10-kilometer race in 37 minutes 48 seconds, What is your average speed in miles per hour?\n",
    "\n",
    "إذا جريت سباق 10 كيلومترات في 37 دقيقة و 48 ثانية\n",
    " \n",
    " ما هي سرعتك المتوسطة بالميل في الساعة؟"
   ]
  },
  {
   "cell_type": "code",
   "execution_count": null,
   "metadata": {},
   "outputs": [],
   "source": []
  }
 ],
 "metadata": {
  "kernelspec": {
   "display_name": "Julia 1.5.0",
   "language": "julia",
   "name": "julia-1.5"
  },
  "language_info": {
   "file_extension": ".jl",
   "mimetype": "application/julia",
   "name": "julia",
   "version": "1.5.0"
  }
 },
 "nbformat": 4,
 "nbformat_minor": 4
}
