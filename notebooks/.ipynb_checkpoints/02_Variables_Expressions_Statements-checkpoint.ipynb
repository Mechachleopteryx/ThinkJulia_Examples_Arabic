{
 "cells": [
  {
   "cell_type": "markdown",
   "metadata": {},
   "source": [
    "لتشغيل الخلايا إضغط \n",
    "\n",
    "SHIFT + ENTER أو CTRL + ENTER"
   ]
  },
  {
   "cell_type": "code",
   "execution_count": 10,
   "metadata": {},
   "outputs": [
    {
     "name": "stderr",
     "output_type": "stream",
     "text": [
      "WARNING: replacing module Utils.\n"
     ]
    },
    {
     "data": {
      "text/plain": [
       "Main.Utils"
      ]
     },
     "execution_count": 10,
     "metadata": {},
     "output_type": "execute_result"
    }
   ],
   "source": [
    "include(\"../utils.jl\")"
   ]
  },
  {
   "cell_type": "markdown",
   "metadata": {},
   "source": [
    "# Variables Expressions Statements - متغيرات عبارات تعليمات"
   ]
  },
  {
   "cell_type": "code",
   "execution_count": 11,
   "metadata": {},
   "outputs": [
    {
     "data": {
      "text/html": [
       "    <iframe width=\"560\" height=\"315\"\n",
       "    src=\"https://www.youtube.com/embed/vlYhCXegRM0?start=1&end=69&rel=0&showinfo=0\"\n",
       "    frameborder=\"0\" allowfullscreen>\n",
       "    </iframe>\n"
      ],
      "text/plain": [
       "HTML{String}(\"    <iframe width=\\\"560\\\" height=\\\"315\\\"\\n    src=\\\"https://www.youtube.com/embed/vlYhCXegRM0?start=1&end=69&rel=0&showinfo=0\\\"\\n    frameborder=\\\"0\\\" allowfullscreen>\\n    </iframe>\\n\")"
      ]
     },
     "execution_count": 11,
     "metadata": {},
     "output_type": "execute_result"
    }
   ],
   "source": [
    "Utils.read_youtube(\"vlYhCXegRM0\", \"1:09\")"
   ]
  },
  {
   "cell_type": "markdown",
   "metadata": {},
   "source": [
    "## Assignment Statements -  تعليمات التعيين"
   ]
  },
  {
   "cell_type": "code",
   "execution_count": 12,
   "metadata": {},
   "outputs": [
    {
     "data": {
      "text/html": [
       "    <iframe width=\"560\" height=\"315\"\n",
       "    src=\"https://www.youtube.com/embed/vlYhCXegRM0?start=69&end=268&rel=0&showinfo=0\"\n",
       "    frameborder=\"0\" allowfullscreen>\n",
       "    </iframe>\n"
      ],
      "text/plain": [
       "HTML{String}(\"    <iframe width=\\\"560\\\" height=\\\"315\\\"\\n    src=\\\"https://www.youtube.com/embed/vlYhCXegRM0?start=69&end=268&rel=0&showinfo=0\\\"\\n    frameborder=\\\"0\\\" allowfullscreen>\\n    </iframe>\\n\")"
      ]
     },
     "execution_count": 12,
     "metadata": {},
     "output_type": "execute_result"
    }
   ],
   "source": [
    "Utils.read_youtube(\"vlYhCXegRM0\", \"1:09\", \"4:28\")"
   ]
  },
  {
   "cell_type": "code",
   "execution_count": 13,
   "metadata": {},
   "outputs": [
    {
     "data": {
      "text/plain": [
       "\"And now for something completely different\""
      ]
     },
     "execution_count": 13,
     "metadata": {},
     "output_type": "execute_result"
    }
   ],
   "source": [
    "message = \"And now for something completely different\""
   ]
  },
  {
   "cell_type": "code",
   "execution_count": 14,
   "metadata": {},
   "outputs": [
    {
     "data": {
      "text/plain": [
       "17"
      ]
     },
     "execution_count": 14,
     "metadata": {},
     "output_type": "execute_result"
    }
   ],
   "source": [
    "n = 17"
   ]
  },
  {
   "cell_type": "code",
   "execution_count": 15,
   "metadata": {},
   "outputs": [
    {
     "data": {
      "text/plain": [
       "3.141592653589793"
      ]
     },
     "execution_count": 15,
     "metadata": {},
     "output_type": "execute_result"
    }
   ],
   "source": [
    "π_val = 3.141592653589793"
   ]
  },
  {
   "cell_type": "markdown",
   "metadata": {},
   "source": [
    "## Variable Names - أسماء المتغيرات"
   ]
  },
  {
   "cell_type": "code",
   "execution_count": 16,
   "metadata": {},
   "outputs": [
    {
     "data": {
      "text/html": [
       "    <iframe width=\"560\" height=\"315\"\n",
       "    src=\"https://www.youtube.com/embed/vlYhCXegRM0?start=268&end=552&rel=0&showinfo=0\"\n",
       "    frameborder=\"0\" allowfullscreen>\n",
       "    </iframe>\n"
      ],
      "text/plain": [
       "HTML{String}(\"    <iframe width=\\\"560\\\" height=\\\"315\\\"\\n    src=\\\"https://www.youtube.com/embed/vlYhCXegRM0?start=268&end=552&rel=0&showinfo=0\\\"\\n    frameborder=\\\"0\\\" allowfullscreen>\\n    </iframe>\\n\")"
      ]
     },
     "execution_count": 16,
     "metadata": {},
     "output_type": "execute_result"
    }
   ],
   "source": [
    "Utils.read_youtube(\"vlYhCXegRM0\", \"4:28\", \"9:12\")"
   ]
  },
  {
   "cell_type": "markdown",
   "metadata": {},
   "source": [
    "أمثلة لأسماء غير مسموح بها:"
   ]
  },
  {
   "cell_type": "code",
   "execution_count": 17,
   "metadata": {},
   "outputs": [
    {
     "ename": "LoadError",
     "evalue": "syntax: \"76\" is not a valid function argument name around In[17]:1",
     "output_type": "error",
     "traceback": [
      "syntax: \"76\" is not a valid function argument name around In[17]:1",
      "",
      "Stacktrace:",
      " [1] top-level scope at In[17]:1",
      " [2] include_string(::Function, ::Module, ::String, ::String) at ./loading.jl:1091"
     ]
    }
   ],
   "source": [
    "76trombones = \"big parade\""
   ]
  },
  {
   "cell_type": "code",
   "execution_count": 18,
   "metadata": {},
   "outputs": [
    {
     "ename": "LoadError",
     "evalue": "syntax: extra token \"@\" after end of expression",
     "output_type": "error",
     "traceback": [
      "syntax: extra token \"@\" after end of expression",
      "",
      "Stacktrace:",
      " [1] top-level scope at In[18]:1",
      " [2] include_string(::Function, ::Module, ::String, ::String) at ./loading.jl:1091"
     ]
    }
   ],
   "source": [
    "more@ = 1000000"
   ]
  },
  {
   "cell_type": "code",
   "execution_count": 19,
   "metadata": {},
   "outputs": [
    {
     "ename": "LoadError",
     "evalue": "syntax: unexpected \"=\"",
     "output_type": "error",
     "traceback": [
      "syntax: unexpected \"=\"",
      "",
      "Stacktrace:",
      " [1] top-level scope at In[19]:1",
      " [2] include_string(::Function, ::Module, ::String, ::String) at ./loading.jl:1091"
     ]
    }
   ],
   "source": [
    "struct = \"Advanced Theoretical Zymurgy\""
   ]
  },
  {
   "cell_type": "markdown",
   "metadata": {},
   "source": [
    "## Expressions & Statements - عبارات و تعليمات"
   ]
  },
  {
   "cell_type": "code",
   "execution_count": 20,
   "metadata": {},
   "outputs": [
    {
     "data": {
      "text/html": [
       "    <iframe width=\"560\" height=\"315\"\n",
       "    src=\"https://www.youtube.com/embed/vlYhCXegRM0?start=552&end=825&rel=0&showinfo=0\"\n",
       "    frameborder=\"0\" allowfullscreen>\n",
       "    </iframe>\n"
      ],
      "text/plain": [
       "HTML{String}(\"    <iframe width=\\\"560\\\" height=\\\"315\\\"\\n    src=\\\"https://www.youtube.com/embed/vlYhCXegRM0?start=552&end=825&rel=0&showinfo=0\\\"\\n    frameborder=\\\"0\\\" allowfullscreen>\\n    </iframe>\\n\")"
      ]
     },
     "execution_count": 20,
     "metadata": {},
     "output_type": "execute_result"
    }
   ],
   "source": [
    "Utils.read_youtube(\"vlYhCXegRM0\", \"9:12\", \"13:45\")"
   ]
  },
  {
   "cell_type": "markdown",
   "metadata": {},
   "source": [
    " ##### أمثلة لعبارات"
   ]
  },
  {
   "cell_type": "code",
   "execution_count": 21,
   "metadata": {},
   "outputs": [
    {
     "data": {
      "text/plain": [
       "42"
      ]
     },
     "execution_count": 21,
     "metadata": {},
     "output_type": "execute_result"
    }
   ],
   "source": [
    "42"
   ]
  },
  {
   "cell_type": "code",
   "execution_count": 22,
   "metadata": {},
   "outputs": [
    {
     "data": {
      "text/plain": [
       "17"
      ]
     },
     "execution_count": 22,
     "metadata": {},
     "output_type": "execute_result"
    }
   ],
   "source": [
    "n"
   ]
  },
  {
   "cell_type": "code",
   "execution_count": 23,
   "metadata": {},
   "outputs": [
    {
     "data": {
      "text/plain": [
       "42"
      ]
     },
     "execution_count": 23,
     "metadata": {},
     "output_type": "execute_result"
    }
   ],
   "source": [
    "n + 25"
   ]
  },
  {
   "cell_type": "markdown",
   "metadata": {},
   "source": [
    "##### أمثلة لتعليمات"
   ]
  },
  {
   "cell_type": "code",
   "execution_count": 24,
   "metadata": {},
   "outputs": [
    {
     "data": {
      "text/plain": [
       "17"
      ]
     },
     "execution_count": 24,
     "metadata": {},
     "output_type": "execute_result"
    }
   ],
   "source": [
    "n = 17"
   ]
  },
  {
   "cell_type": "code",
   "execution_count": 25,
   "metadata": {},
   "outputs": [
    {
     "name": "stdout",
     "output_type": "stream",
     "text": [
      "17\n"
     ]
    }
   ],
   "source": [
    "println(n)"
   ]
  },
  {
   "cell_type": "markdown",
   "metadata": {},
   "source": [
    "## Script Mode - وضع سكريبت (برنامج نصي)"
   ]
  },
  {
   "cell_type": "code",
   "execution_count": 26,
   "metadata": {},
   "outputs": [
    {
     "data": {
      "text/html": [
       "    <iframe width=\"560\" height=\"315\"\n",
       "    src=\"https://www.youtube.com/embed/vlYhCXegRM0?start=825&end=1305&rel=0&showinfo=0\"\n",
       "    frameborder=\"0\" allowfullscreen>\n",
       "    </iframe>\n"
      ],
      "text/plain": [
       "HTML{String}(\"    <iframe width=\\\"560\\\" height=\\\"315\\\"\\n    src=\\\"https://www.youtube.com/embed/vlYhCXegRM0?start=825&end=1305&rel=0&showinfo=0\\\"\\n    frameborder=\\\"0\\\" allowfullscreen>\\n    </iframe>\\n\")"
      ]
     },
     "execution_count": 26,
     "metadata": {},
     "output_type": "execute_result"
    }
   ],
   "source": [
    "Utils.read_youtube(\"vlYhCXegRM0\", \"13:45\", \"21:45\")"
   ]
  },
  {
   "cell_type": "markdown",
   "metadata": {},
   "source": [
    "استعمال فاصلة منقوطة \";\" في نهاية السطر يمنع الطبع التلقائي للنتائج\n",
    "\n",
    "هذا مشابه لاستعمال الكود في سكريبت  "
   ]
  },
  {
   "cell_type": "code",
   "execution_count": 30,
   "metadata": {},
   "outputs": [],
   "source": [
    "x = 5\n",
    "x + 1;"
   ]
  },
  {
   "cell_type": "markdown",
   "metadata": {},
   "source": [
    "كيف يمكن تعديل الكود لاظهار النتيجة اﻷخيرة دون حذف الفاصلة المنقوطة"
   ]
  },
  {
   "cell_type": "markdown",
   "metadata": {},
   "source": [
    "## Operator Precedence - أسبقية العمليات (أو المشغلات)"
   ]
  },
  {
   "cell_type": "code",
   "execution_count": 31,
   "metadata": {},
   "outputs": [
    {
     "data": {
      "text/html": [
       "    <iframe width=\"560\" height=\"315\"\n",
       "    src=\"https://www.youtube.com/embed/vlYhCXegRM0?start=825&end=1478&rel=0&showinfo=0\"\n",
       "    frameborder=\"0\" allowfullscreen>\n",
       "    </iframe>\n"
      ],
      "text/plain": [
       "HTML{String}(\"    <iframe width=\\\"560\\\" height=\\\"315\\\"\\n    src=\\\"https://www.youtube.com/embed/vlYhCXegRM0?start=825&end=1478&rel=0&showinfo=0\\\"\\n    frameborder=\\\"0\\\" allowfullscreen>\\n    </iframe>\\n\")"
      ]
     },
     "execution_count": 31,
     "metadata": {},
     "output_type": "execute_result"
    }
   ],
   "source": [
    "Utils.read_youtube(\"vlYhCXegRM0\", \"13:45\", \"24:38\")"
   ]
  },
  {
   "cell_type": "markdown",
   "metadata": {},
   "source": [
    "## String Operators - عمليات على النصوص (مشغلات سلاسل المحارف)"
   ]
  },
  {
   "cell_type": "code",
   "execution_count": 34,
   "metadata": {},
   "outputs": [
    {
     "data": {
      "text/html": [
       "    <iframe width=\"560\" height=\"315\"\n",
       "    src=\"https://www.youtube.com/embed/vlYhCXegRM0?start=1478&end=1663&rel=0&showinfo=0\"\n",
       "    frameborder=\"0\" allowfullscreen>\n",
       "    </iframe>\n"
      ],
      "text/plain": [
       "HTML{String}(\"    <iframe width=\\\"560\\\" height=\\\"315\\\"\\n    src=\\\"https://www.youtube.com/embed/vlYhCXegRM0?start=1478&end=1663&rel=0&showinfo=0\\\"\\n    frameborder=\\\"0\\\" allowfullscreen>\\n    </iframe>\\n\")"
      ]
     },
     "execution_count": 34,
     "metadata": {},
     "output_type": "execute_result"
    }
   ],
   "source": [
    "Utils.read_youtube(\"vlYhCXegRM0\", \"24:38\", \"27:43\")"
   ]
  },
  {
   "cell_type": "markdown",
   "metadata": {},
   "source": [
    "String = سلسلة محارف يُرمز إليها باستعمال علامتي اقتباس كما يلي"
   ]
  },
  {
   "cell_type": "code",
   "execution_count": 32,
   "metadata": {},
   "outputs": [
    {
     "data": {
      "text/plain": [
       "\"هذه سلسلة محارف أو نص للإختصار\""
      ]
     },
     "execution_count": 32,
     "metadata": {},
     "output_type": "execute_result"
    }
   ],
   "source": [
    "\"هذه سلسلة محارف أو نص للإختصار\""
   ]
  },
  {
   "cell_type": "code",
   "execution_count": 33,
   "metadata": {},
   "outputs": [
    {
     "data": {
      "text/plain": [
       "\"This is a string!\""
      ]
     },
     "execution_count": 33,
     "metadata": {},
     "output_type": "execute_result"
    }
   ],
   "source": [
    "\"This is a string!\""
   ]
  },
  {
   "cell_type": "markdown",
   "metadata": {},
   "source": [
    "## Comments - تعليقات"
   ]
  },
  {
   "cell_type": "code",
   "execution_count": 37,
   "metadata": {},
   "outputs": [
    {
     "data": {
      "text/html": [
       "    <iframe width=\"560\" height=\"315\"\n",
       "    src=\"https://www.youtube.com/embed/vlYhCXegRM0?start=1663&end=1897&rel=0&showinfo=0\"\n",
       "    frameborder=\"0\" allowfullscreen>\n",
       "    </iframe>\n"
      ],
      "text/plain": [
       "HTML{String}(\"    <iframe width=\\\"560\\\" height=\\\"315\\\"\\n    src=\\\"https://www.youtube.com/embed/vlYhCXegRM0?start=1663&end=1897&rel=0&showinfo=0\\\"\\n    frameborder=\\\"0\\\" allowfullscreen>\\n    </iframe>\\n\")"
      ]
     },
     "execution_count": 37,
     "metadata": {},
     "output_type": "execute_result"
    }
   ],
   "source": [
    "Utils.read_youtube(\"vlYhCXegRM0\", \"27:43\", \"31:37\")"
   ]
  },
  {
   "cell_type": "code",
   "execution_count": 36,
   "metadata": {},
   "outputs": [],
   "source": [
    "# هذا تعليق\n",
    "# عدل السطر التالي لإظهار النتيجة\n",
    "# 1 + 1"
   ]
  },
  {
   "cell_type": "markdown",
   "metadata": {},
   "source": [
    "## Debugging"
   ]
  },
  {
   "cell_type": "code",
   "execution_count": 38,
   "metadata": {},
   "outputs": [
    {
     "data": {
      "text/html": [
       "    <iframe width=\"560\" height=\"315\"\n",
       "    src=\"https://www.youtube.com/embed/vlYhCXegRM0?start=1897&end=2006&rel=0&showinfo=0\"\n",
       "    frameborder=\"0\" allowfullscreen>\n",
       "    </iframe>\n"
      ],
      "text/plain": [
       "HTML{String}(\"    <iframe width=\\\"560\\\" height=\\\"315\\\"\\n    src=\\\"https://www.youtube.com/embed/vlYhCXegRM0?start=1897&end=2006&rel=0&showinfo=0\\\"\\n    frameborder=\\\"0\\\" allowfullscreen>\\n    </iframe>\\n\")"
      ]
     },
     "execution_count": 38,
     "metadata": {},
     "output_type": "execute_result"
    }
   ],
   "source": [
    "Utils.read_youtube(\"vlYhCXegRM0\", \"31:37\", \"33:26\")"
   ]
  },
  {
   "cell_type": "markdown",
   "metadata": {},
   "source": [
    "## مصطلحات - Glossary"
   ]
  },
  {
   "cell_type": "code",
   "execution_count": 39,
   "metadata": {},
   "outputs": [
    {
     "data": {
      "text/html": [
       "    <iframe width=\"560\" height=\"315\"\n",
       "    src=\"https://www.youtube.com/embed/vlYhCXegRM0?start=2006&end=2164&rel=0&showinfo=0\"\n",
       "    frameborder=\"0\" allowfullscreen>\n",
       "    </iframe>\n"
      ],
      "text/plain": [
       "HTML{String}(\"    <iframe width=\\\"560\\\" height=\\\"315\\\"\\n    src=\\\"https://www.youtube.com/embed/vlYhCXegRM0?start=2006&end=2164&rel=0&showinfo=0\\\"\\n    frameborder=\\\"0\\\" allowfullscreen>\\n    </iframe>\\n\")"
      ]
     },
     "execution_count": 39,
     "metadata": {},
     "output_type": "execute_result"
    }
   ],
   "source": [
    "Utils.read_youtube(\"vlYhCXegRM0\", \"33:26\", \"36:04\")"
   ]
  },
  {
   "cell_type": "markdown",
   "metadata": {},
   "source": [
    "## تمارين - Exercises"
   ]
  },
  {
   "cell_type": "code",
   "execution_count": 40,
   "metadata": {},
   "outputs": [
    {
     "data": {
      "text/html": [
       "    <iframe width=\"560\" height=\"315\"\n",
       "    src=\"https://www.youtube.com/embed/vlYhCXegRM0?start=2164&end=2470&rel=0&showinfo=0\"\n",
       "    frameborder=\"0\" allowfullscreen>\n",
       "    </iframe>\n"
      ],
      "text/plain": [
       "HTML{String}(\"    <iframe width=\\\"560\\\" height=\\\"315\\\"\\n    src=\\\"https://www.youtube.com/embed/vlYhCXegRM0?start=2164&end=2470&rel=0&showinfo=0\\\"\\n    frameborder=\\\"0\\\" allowfullscreen>\\n    </iframe>\\n\")"
      ]
     },
     "execution_count": 40,
     "metadata": {},
     "output_type": "execute_result"
    }
   ],
   "source": [
    "Utils.read_youtube(\"vlYhCXegRM0\", \"36:04\", \"41:10\")"
   ]
  },
  {
   "cell_type": "markdown",
   "metadata": {},
   "source": [
    "##### Ex. 2.2.1:\n",
    "The volume of a sphere with radius r is 43πr3. What is the volume of a sphere with radius 5?\n",
    "\n",
    "حجم كرة نصف قطرها r يساوي 43πr3. ما حجم كرة نصف قطرها 5؟"
   ]
  },
  {
   "cell_type": "code",
   "execution_count": null,
   "metadata": {},
   "outputs": [],
   "source": []
  },
  {
   "cell_type": "markdown",
   "metadata": {},
   "source": [
    "##### Ex. 2.2.2:\n",
    "Suppose the cover price of a book is $ 24.95, but bookstores get a 40 % discount. Shipping costs $ 3 for the first copy and 75 cents for each additional copy. What is the total wholesale cost for 60 copies?\n",
    "\n",
    "لنفترض أن سعر كتاب ما هو 24.95 دولاراً ، لكن المكتبات تحصل على خصم 40٪. تكاليف الشحن 3 دولاراً للنسخة الأولى و 75 سنتًا لكل نسخة إضافية. ما هي التكلفة الإجمالية لـ 60 نسخة؟"
   ]
  },
  {
   "cell_type": "code",
   "execution_count": null,
   "metadata": {},
   "outputs": [],
   "source": []
  }
 ],
 "metadata": {
  "kernelspec": {
   "display_name": "Julia 1.5.0",
   "language": "julia",
   "name": "julia-1.5"
  },
  "language_info": {
   "file_extension": ".jl",
   "mimetype": "application/julia",
   "name": "julia",
   "version": "1.5.0"
  }
 },
 "nbformat": 4,
 "nbformat_minor": 4
}
