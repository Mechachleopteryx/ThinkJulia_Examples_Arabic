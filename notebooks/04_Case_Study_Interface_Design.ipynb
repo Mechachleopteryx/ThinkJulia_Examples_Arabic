{
 "cells": [
  {
   "cell_type": "markdown",
   "metadata": {},
   "source": [
    "لتشغيل الخلايا إضغط \n",
    "\n",
    "SHIFT + ENTER أو CTRL + ENTER"
   ]
  },
  {
   "cell_type": "code",
   "execution_count": 1,
   "metadata": {},
   "outputs": [
    {
     "data": {
      "text/plain": [
       "Main.Utils"
      ]
     },
     "execution_count": 1,
     "metadata": {},
     "output_type": "execute_result"
    }
   ],
   "source": [
    "include(\"../utils.jl\")"
   ]
  },
  {
   "cell_type": "markdown",
   "metadata": {},
   "source": [
    "# Case Study: Interface Design "
   ]
  },
  {
   "cell_type": "code",
   "execution_count": 8,
   "metadata": {},
   "outputs": [],
   "source": [
    "using Luxor"
   ]
  },
  {
   "cell_type": "code",
   "execution_count": 9,
   "metadata": {},
   "outputs": [
    {
     "data": {
      "text/plain": [
       "Turtle(0.0, 0.0, true, 0.0, (0.0, 0.0, 0.0))"
      ]
     },
     "execution_count": 9,
     "metadata": {},
     "output_type": "execute_result"
    }
   ],
   "source": [
    "🐢 = Turtle()"
   ]
  },
  {
   "cell_type": "code",
   "execution_count": 10,
   "metadata": {},
   "outputs": [
    {
     "data": {
      "image/png": "[encoded data removed]",
      "text/plain": [
       "\n",
       "    width:    200.0\n",
       "height:   200.0\n",
       "filename: \n",
       "type:     png\n",
       "    "
      ]
     },
     "metadata": {},
     "output_type": "display_data"
    }
   ],
   "source": [
    "@draw begin\n",
    "    forward(🐢, 100)\n",
    "end 200 200"
   ]
  },
  {
   "cell_type": "markdown",
   "metadata": {},
   "source": [
    "# ما هذا؟"
   ]
  },
  {
   "cell_type": "markdown",
   "metadata": {},
   "source": [
    "عدّل هذا البرنامج ليرسم مربعاً"
   ]
  },
  {
   "cell_type": "code",
   "execution_count": 17,
   "metadata": {
    "scrolled": true
   },
   "outputs": [
    {
     "data": {
      "image/png": "[encoded data removed]",
      "text/plain": [
       "\n",
       "    width:    300.0\n",
       "height:   300.0\n",
       "filename: \n",
       "type:     png\n",
       "    "
      ]
     },
     "metadata": {},
     "output_type": "display_data"
    }
   ],
   "source": [
    "🐢 = Turtle()\n",
    "@draw begin\n",
    "    forward(🐢, 100)\n",
    "    turn(🐢, -90)\n",
    "    forward(🐢, 100)\n",
    "end 300 300"
   ]
  },
  {
   "cell_type": "markdown",
   "metadata": {},
   "source": [
    "يمكنك تكرار تنفيذ كود معين باستعمال تركيب التكرار"
   ]
  },
  {
   "cell_type": "code",
   "execution_count": 16,
   "metadata": {},
   "outputs": [
    {
     "name": "stdout",
     "output_type": "stream",
     "text": [
      "1\n",
      "2\n",
      "3\n",
      "4\n"
     ]
    }
   ],
   "source": [
    "for number in 1:4\n",
    "    println(number)\n",
    "end"
   ]
  },
  {
   "cell_type": "markdown",
   "metadata": {},
   "source": [
    "كيف يمكن استعمال هذا التركيب لتحسين صياغة برنامج رسم المربع السابق"
   ]
  },
  {
   "cell_type": "code",
   "execution_count": null,
   "metadata": {},
   "outputs": [],
   "source": [
    "🐢 = Turtle()\n",
    "@draw begin\n",
    "    # Code Here:\n",
    "    \n",
    "end 300 300"
   ]
  }
 ],
 "metadata": {
  "kernelspec": {
   "display_name": "Julia 1.5.0",
   "language": "julia",
   "name": "julia-1.5"
  },
  "language_info": {
   "file_extension": ".jl",
   "mimetype": "application/julia",
   "name": "julia",
   "version": "1.5.0"
  }
 },
 "nbformat": 4,
 "nbformat_minor": 4
}
