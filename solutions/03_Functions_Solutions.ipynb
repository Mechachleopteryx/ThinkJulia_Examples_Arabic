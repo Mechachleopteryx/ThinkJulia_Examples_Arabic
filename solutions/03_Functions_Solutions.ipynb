{
 "cells": [
  {
   "cell_type": "markdown",
   "metadata": {},
   "source": [
    "# حلول تمارين الباب الثالث"
   ]
  },
  {
   "cell_type": "code",
   "execution_count": 1,
   "metadata": {},
   "outputs": [
    {
     "data": {
      "text/plain": [
       "Main.Utils"
      ]
     },
     "execution_count": 1,
     "metadata": {},
     "output_type": "execute_result"
    }
   ],
   "source": [
    "include(\"../utils.jl\")"
   ]
  },
  {
   "cell_type": "markdown",
   "metadata": {},
   "source": [
    "## Ex 3.2:\n",
    "\n",
    "Write a function named rightjustify that takes a string named s as a parameter and prints the string with enough leading spaces so that the last letter of the string is in column 70 of the display.\n",
    "\n",
    "اكتب دالة باسم\n",
    "\n",
    "`rightjustify`\n",
    "\n",
    "تأخذ نص (سلسلة) يسمى\n",
    "\n",
    "s\n",
    "\n",
    "كمعامل (وسيط) وتطبع هذا النص تتقدمه فضائات كافية بحيث يكون الحرف الأخير من السلسلة في العمود 70 من العرض\n",
    "\n",
    "مثال لاستعمال هذه الدالة:\n",
    "```julia\n",
    "rightjustify(\"monty\")\n",
    "```"
   ]
  },
  {
   "cell_type": "code",
   "execution_count": 2,
   "metadata": {},
   "outputs": [
    {
     "data": {
      "text/html": [
       "    <iframe width=\"560\" height=\"315\"\n",
       "    src=\"https://www.youtube.com/embed/Cji0gny8R6U?start=201&end=990&rel=0&showinfo=0\"\n",
       "    frameborder=\"0\" allowfullscreen>\n",
       "    </iframe>\n"
      ],
      "text/plain": [
       "HTML{String}(\"    <iframe width=\\\"560\\\" height=\\\"315\\\"\\n    src=\\\"https://www.youtube.com/embed/Cji0gny8R6U?start=201&end=990&rel=0&showinfo=0\\\"\\n    frameborder=\\\"0\\\" allowfullscreen>\\n    </iframe>\\n\")"
      ]
     },
     "execution_count": 2,
     "metadata": {},
     "output_type": "execute_result"
    }
   ],
   "source": [
    "Utils.read_youtube(\"Cji0gny8R6U\", \"3:21\", \"16:30\")"
   ]
  },
  {
   "cell_type": "code",
   "execution_count": 4,
   "metadata": {},
   "outputs": [
    {
     "data": {
      "text/plain": [
       "rightjustify (generic function with 1 method)"
      ]
     },
     "execution_count": 4,
     "metadata": {},
     "output_type": "execute_result"
    }
   ],
   "source": [
    "function rightjustify(text)\n",
    "    nb_spaces = 70 - length(text)\n",
    "    \" \"^nb_spaces * text\n",
    "end"
   ]
  },
  {
   "cell_type": "code",
   "execution_count": 6,
   "metadata": {},
   "outputs": [
    {
     "data": {
      "text/plain": [
       "\"                                                                 monty\""
      ]
     },
     "execution_count": 6,
     "metadata": {},
     "output_type": "execute_result"
    }
   ],
   "source": [
    "result = rightjustify(\"monty\") "
   ]
  },
  {
   "cell_type": "code",
   "execution_count": 9,
   "metadata": {},
   "outputs": [],
   "source": [
    "@assert length(result) == 70"
   ]
  },
  {
   "cell_type": "markdown",
   "metadata": {},
   "source": [
    "باللغة العربية"
   ]
  },
  {
   "cell_type": "code",
   "execution_count": 10,
   "metadata": {},
   "outputs": [
    {
     "data": {
      "text/plain": [
       "length (generic function with 85 methods)"
      ]
     },
     "execution_count": 10,
     "metadata": {},
     "output_type": "execute_result"
    }
   ],
   "source": [
    "const طول = length"
   ]
  },
  {
   "cell_type": "code",
   "execution_count": 13,
   "metadata": {},
   "outputs": [
    {
     "data": {
      "text/plain": [
       "صف_يمين (generic function with 1 method)"
      ]
     },
     "execution_count": 13,
     "metadata": {},
     "output_type": "execute_result"
    }
   ],
   "source": [
    "function صف_يمين(نص)\n",
    "    عدد_الفضاء = 70 - طول(نص)\n",
    "   فضاء = \" \"^عدد_الفضاء\n",
    "    فضاء * نص\n",
    "end"
   ]
  },
  {
   "cell_type": "code",
   "execution_count": 14,
   "metadata": {},
   "outputs": [
    {
     "data": {
      "text/plain": [
       "\"                                                                السلام\""
      ]
     },
     "execution_count": 14,
     "metadata": {},
     "output_type": "execute_result"
    }
   ],
   "source": [
    "صف_يمين(\"السلام\")"
   ]
  },
  {
   "cell_type": "markdown",
   "metadata": {},
   "source": [
    "## Ex. 3.3:\n",
    "[نص التمرين على كتاب ثنك جوليا](https://benlauwens.github.io/ThinkJulia.jl/latest/book.html#_exercises_3)\n",
    "\n",
    "كائن (أو شيء) الدالة هو قيمة يمكنك تعيينها لمتغير أو تمريرها كوسيط. على سبيل المثال، \n",
    "\n",
    "`dotwice دووتوايس`\n",
    "\n",
    "هي دالة تأخذ كائن دالة كوسيط وتستدعيها مرتين\n",
    "\n",
    "```julia\n",
    "function dotwice(f)\n",
    "    f()\n",
    "    f()\n",
    "end\n",
    "```\n",
    "هذا مثل لكيفية استعمالها مع دالة تطبع كلمة\n",
    "\n",
    "`spam`\n",
    "\n",
    "```julia\n",
    "function printspam()\n",
    "    println(\"spam\")\n",
    "end\n",
    "\n",
    "dotwice(printspam)\n",
    "```\n",
    "\n",
    "1- اكتب هذا المثال في برنامج نصي سكريبت واختبره.\n",
    "\n",
    "2-  قم بتعديل `دووتوايس` بحيث تأخذ وسيطين ، كائن دالة د وقيمة ق ، ويستدعي الدالة د مرتين ، يمرر في كل نداء القيمة ق المعطاة كوسيط\n",
    "\n",
    "3- قم بتعديل الدالة التالية باستعمال `دووتوايس`\n",
    "\n",
    "```julia\n",
    "function printtwice(bruce)\n",
    "    println(bruce)\n",
    "    println(bruce)\n",
    "end\n",
    "```\n",
    "4- عرف دالة جديدة تدعى\n",
    "\n",
    "`dofour دووفور `\n",
    "\n",
    "بحيث تأخذ وسيطين ، كائن دالة د وقيمة ق ، ويستدعي الدالة د 4 مرات ، يمرر في كل نداء القيمة ق المعطاة كوسيط\n",
    "\n",
    "يجب عدم تجاوز تعليمتين في صياغة جسد الدالة"
   ]
  },
  {
   "cell_type": "code",
   "execution_count": 3,
   "metadata": {},
   "outputs": [
    {
     "data": {
      "text/html": [
       "    <iframe width=\"560\" height=\"315\"\n",
       "    src=\"https://www.youtube.com/embed/Cji0gny8R6U?start=990&end=1438&rel=0&showinfo=0\"\n",
       "    frameborder=\"0\" allowfullscreen>\n",
       "    </iframe>\n"
      ],
      "text/plain": [
       "HTML{String}(\"    <iframe width=\\\"560\\\" height=\\\"315\\\"\\n    src=\\\"https://www.youtube.com/embed/Cji0gny8R6U?start=990&end=1438&rel=0&showinfo=0\\\"\\n    frameborder=\\\"0\\\" allowfullscreen>\\n    </iframe>\\n\")"
      ]
     },
     "execution_count": 3,
     "metadata": {},
     "output_type": "execute_result"
    }
   ],
   "source": [
    "Utils.read_youtube(\"Cji0gny8R6U\", \"16:30\", \"23:58\")"
   ]
  },
  {
   "cell_type": "code",
   "execution_count": 15,
   "metadata": {},
   "outputs": [
    {
     "data": {
      "text/plain": [
       "dotwice (generic function with 1 method)"
      ]
     },
     "execution_count": 15,
     "metadata": {},
     "output_type": "execute_result"
    }
   ],
   "source": [
    "function dotwice(f)\n",
    "    f()\n",
    "    f()\n",
    "end"
   ]
  },
  {
   "cell_type": "code",
   "execution_count": 16,
   "metadata": {},
   "outputs": [
    {
     "data": {
      "text/plain": [
       "printhello (generic function with 1 method)"
      ]
     },
     "execution_count": 16,
     "metadata": {},
     "output_type": "execute_result"
    }
   ],
   "source": [
    "function printhello()\n",
    "    println(\"Hello\")\n",
    "end"
   ]
  },
  {
   "cell_type": "code",
   "execution_count": 17,
   "metadata": {},
   "outputs": [
    {
     "name": "stdout",
     "output_type": "stream",
     "text": [
      "Hello\n",
      "Hello\n"
     ]
    }
   ],
   "source": [
    "dotwice(printhello)"
   ]
  },
  {
   "cell_type": "code",
   "execution_count": 18,
   "metadata": {},
   "outputs": [
    {
     "data": {
      "text/plain": [
       "dotwice (generic function with 2 methods)"
      ]
     },
     "execution_count": 18,
     "metadata": {},
     "output_type": "execute_result"
    }
   ],
   "source": [
    "function dotwice(f, v)\n",
    "    f(v)\n",
    "    f(v)\n",
    "end"
   ]
  },
  {
   "cell_type": "code",
   "execution_count": 19,
   "metadata": {},
   "outputs": [
    {
     "name": "stdout",
     "output_type": "stream",
     "text": [
      "Hello\n",
      "Hello\n"
     ]
    }
   ],
   "source": [
    "dotwice(println, \"Hello\")"
   ]
  },
  {
   "cell_type": "code",
   "execution_count": 20,
   "metadata": {},
   "outputs": [
    {
     "data": {
      "text/plain": [
       "dofour (generic function with 1 method)"
      ]
     },
     "execution_count": 20,
     "metadata": {},
     "output_type": "execute_result"
    }
   ],
   "source": [
    "function dofour(f)\n",
    "    dotwice(f)\n",
    "    dotwice(f)\n",
    "end"
   ]
  },
  {
   "cell_type": "code",
   "execution_count": 21,
   "metadata": {},
   "outputs": [
    {
     "name": "stdout",
     "output_type": "stream",
     "text": [
      "Hello\n",
      "Hello\n",
      "Hello\n",
      "Hello\n"
     ]
    }
   ],
   "source": [
    "dofour(printhello)"
   ]
  },
  {
   "cell_type": "code",
   "execution_count": 22,
   "metadata": {},
   "outputs": [
    {
     "data": {
      "text/plain": [
       "dofour (generic function with 2 methods)"
      ]
     },
     "execution_count": 22,
     "metadata": {},
     "output_type": "execute_result"
    }
   ],
   "source": [
    "function dofour(f, v)\n",
    "    dotwice(f, v)\n",
    "    dotwice(f, v)\n",
    "end"
   ]
  },
  {
   "cell_type": "code",
   "execution_count": 23,
   "metadata": {},
   "outputs": [
    {
     "name": "stdout",
     "output_type": "stream",
     "text": [
      "Hello\n",
      "Hello\n",
      "Hello\n",
      "Hello\n"
     ]
    }
   ],
   "source": [
    "dofour(println, \"Hello\")"
   ]
  },
  {
   "cell_type": "markdown",
   "metadata": {},
   "source": [
    "## Ex. 3.4:\n",
    "\n",
    "عرف دالة ترسم شبكة مثل ما يلي\n",
    "\n",
    "\n",
    "```julia\n",
    "julia> printgrid()\n",
    "+ - - - - + - - - - +\n",
    "|         |         |\n",
    "|         |         |\n",
    "|         |         |\n",
    "|         |         |\n",
    "+ - - - - + - - - - +\n",
    "|         |         |\n",
    "|         |         |\n",
    "|         |         |\n",
    "|         |         |\n",
    "+ - - - - + - - - - +\n",
    "```\n",
    "عرف دالة مشابهة تطبع شبكة ب 4 صفوف و 4 أعمدة\n"
   ]
  },
  {
   "cell_type": "code",
   "execution_count": 4,
   "metadata": {},
   "outputs": [
    {
     "data": {
      "text/html": [
       "    <iframe width=\"560\" height=\"315\"\n",
       "    src=\"https://www.youtube.com/embed/Cji0gny8R6U?start=1438&end=2334&rel=0&showinfo=0\"\n",
       "    frameborder=\"0\" allowfullscreen>\n",
       "    </iframe>\n"
      ],
      "text/plain": [
       "HTML{String}(\"    <iframe width=\\\"560\\\" height=\\\"315\\\"\\n    src=\\\"https://www.youtube.com/embed/Cji0gny8R6U?start=1438&end=2334&rel=0&showinfo=0\\\"\\n    frameborder=\\\"0\\\" allowfullscreen>\\n    </iframe>\\n\")"
      ]
     },
     "execution_count": 4,
     "metadata": {},
     "output_type": "execute_result"
    }
   ],
   "source": [
    "Utils.read_youtube(\"Cji0gny8R6U\", \"23:58\", \"38:54\")"
   ]
  },
  {
   "cell_type": "code",
   "execution_count": 24,
   "metadata": {},
   "outputs": [
    {
     "name": "stdout",
     "output_type": "stream",
     "text": [
      "+ - - - - "
     ]
    }
   ],
   "source": [
    "function printbeam()\n",
    "    print(\"+ - - - - \")\n",
    "end\n",
    "printbeam()"
   ]
  },
  {
   "cell_type": "code",
   "execution_count": 26,
   "metadata": {},
   "outputs": [
    {
     "name": "stdout",
     "output_type": "stream",
     "text": [
      "|         "
     ]
    }
   ],
   "source": [
    "function printpole()\n",
    "    print(\"|         \")\n",
    "end\n",
    "printpole()"
   ]
  },
  {
   "cell_type": "code",
   "execution_count": 28,
   "metadata": {},
   "outputs": [
    {
     "name": "stdout",
     "output_type": "stream",
     "text": [
      "+ - - - - \n",
      "|         "
     ]
    }
   ],
   "source": [
    "printbeam()\n",
    "println()\n",
    "printpole()"
   ]
  },
  {
   "cell_type": "code",
   "execution_count": 30,
   "metadata": {},
   "outputs": [
    {
     "name": "stdout",
     "output_type": "stream",
     "text": [
      "+ - - - - + - - - - +\n"
     ]
    }
   ],
   "source": [
    "function printbeams()\n",
    "    dotwice(printbeam)\n",
    "    println(\"+\")\n",
    "end\n",
    "printbeams()"
   ]
  },
  {
   "cell_type": "code",
   "execution_count": 32,
   "metadata": {},
   "outputs": [
    {
     "name": "stdout",
     "output_type": "stream",
     "text": [
      "|         |         |\n"
     ]
    }
   ],
   "source": [
    "function printpoles()\n",
    "    dotwice(printpole)\n",
    "    println(\"|\")\n",
    "end\n",
    "printpoles()"
   ]
  },
  {
   "cell_type": "code",
   "execution_count": 33,
   "metadata": {},
   "outputs": [
    {
     "name": "stdout",
     "output_type": "stream",
     "text": [
      "+ - - - - + - - - - +\n",
      "|         |         |\n",
      "|         |         |\n",
      "|         |         |\n",
      "|         |         |\n"
     ]
    }
   ],
   "source": [
    "function print_grid_part()\n",
    "    printbeams()\n",
    "    dofour(printpoles)\n",
    "end\n",
    "\n",
    "print_grid_part()"
   ]
  },
  {
   "cell_type": "code",
   "execution_count": 35,
   "metadata": {},
   "outputs": [
    {
     "name": "stdout",
     "output_type": "stream",
     "text": [
      "+ - - - - + - - - - +\n",
      "|         |         |\n",
      "|         |         |\n",
      "|         |         |\n",
      "|         |         |\n",
      "+ - - - - + - - - - +\n",
      "|         |         |\n",
      "|         |         |\n",
      "|         |         |\n",
      "|         |         |\n",
      "+ - - - - + - - - - +\n"
     ]
    }
   ],
   "source": [
    "function printgrid()\n",
    "    dotwice(print_grid_part)\n",
    "    printbeams()\n",
    "end\n",
    "\n",
    "printgrid()"
   ]
  },
  {
   "cell_type": "code",
   "execution_count": 36,
   "metadata": {},
   "outputs": [
    {
     "name": "stdout",
     "output_type": "stream",
     "text": [
      "+ - - - - + - - - - + - - - - + - - - - +\n"
     ]
    }
   ],
   "source": [
    "function print_long_beams()\n",
    "    dofour(printbeam)\n",
    "    println(\"+\")\n",
    "end\n",
    "\n",
    "print_long_beams()"
   ]
  },
  {
   "cell_type": "code",
   "execution_count": 37,
   "metadata": {},
   "outputs": [
    {
     "name": "stdout",
     "output_type": "stream",
     "text": [
      "|         |         |         |         |\n"
     ]
    }
   ],
   "source": [
    "function print_long_poles()\n",
    "    dofour(printpole)\n",
    "    println(\"|\")\n",
    "end\n",
    "\n",
    "print_long_poles()"
   ]
  },
  {
   "cell_type": "code",
   "execution_count": 38,
   "metadata": {},
   "outputs": [
    {
     "name": "stdout",
     "output_type": "stream",
     "text": [
      "+ - - - - + - - - - + - - - - + - - - - +\n",
      "|         |         |         |         |\n",
      "|         |         |         |         |\n",
      "|         |         |         |         |\n",
      "|         |         |         |         |\n"
     ]
    }
   ],
   "source": [
    "function print_long_part_grid()\n",
    "    print_long_beams()\n",
    "    dofour(print_long_poles)\n",
    "end\n",
    "\n",
    "print_long_part_grid()"
   ]
  },
  {
   "cell_type": "code",
   "execution_count": 39,
   "metadata": {},
   "outputs": [
    {
     "name": "stdout",
     "output_type": "stream",
     "text": [
      "+ - - - - + - - - - + - - - - + - - - - +\n",
      "|         |         |         |         |\n",
      "|         |         |         |         |\n",
      "|         |         |         |         |\n",
      "|         |         |         |         |\n",
      "+ - - - - + - - - - + - - - - + - - - - +\n",
      "|         |         |         |         |\n",
      "|         |         |         |         |\n",
      "|         |         |         |         |\n",
      "|         |         |         |         |\n",
      "+ - - - - + - - - - + - - - - + - - - - +\n",
      "|         |         |         |         |\n",
      "|         |         |         |         |\n",
      "|         |         |         |         |\n",
      "|         |         |         |         |\n",
      "+ - - - - + - - - - + - - - - + - - - - +\n",
      "|         |         |         |         |\n",
      "|         |         |         |         |\n",
      "|         |         |         |         |\n",
      "|         |         |         |         |\n",
      "+ - - - - + - - - - + - - - - + - - - - +\n"
     ]
    }
   ],
   "source": [
    "function print_large_grid()\n",
    "    dofour(print_long_part_grid)\n",
    "    print_long_beams()\n",
    "end\n",
    "\n",
    "print_large_grid()"
   ]
  },
  {
   "cell_type": "code",
   "execution_count": null,
   "metadata": {},
   "outputs": [],
   "source": []
  }
 ],
 "metadata": {
  "kernelspec": {
   "display_name": "Julia 1.5.0",
   "language": "julia",
   "name": "julia-1.5"
  },
  "language_info": {
   "file_extension": ".jl",
   "mimetype": "application/julia",
   "name": "julia",
   "version": "1.5.0"
  }
 },
 "nbformat": 4,
 "nbformat_minor": 4
}
