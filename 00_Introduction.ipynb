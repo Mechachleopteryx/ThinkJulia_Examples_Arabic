{
 "cells": [
  {
   "cell_type": "code",
   "execution_count": 25,
   "metadata": {},
   "outputs": [
    {
     "name": "stderr",
     "output_type": "stream",
     "text": [
      "WARNING: replacing module Utils.\n"
     ]
    },
    {
     "data": {
      "text/plain": [
       "Main.Utils"
      ]
     },
     "execution_count": 25,
     "metadata": {},
     "output_type": "execute_result"
    }
   ],
   "source": [
    "include(\"../utils.jl\")"
   ]
  },
  {
   "cell_type": "markdown",
   "metadata": {},
   "source": [
    "# حقوق النشر - Copyright "
   ]
  },
  {
   "cell_type": "code",
   "execution_count": 26,
   "metadata": {},
   "outputs": [
    {
     "data": {
      "text/html": [
       "    <iframe width=\"560\" height=\"315\"\n",
       "    src=\"https://www.youtube.com/embed/nqgXdna7W_E?start=1&end=233&rel=0&showinfo=0\"\n",
       "    frameborder=\"0\" allowfullscreen>\n",
       "    </iframe>\n"
      ],
      "text/plain": [
       "HTML{String}(\"    <iframe width=\\\"560\\\" height=\\\"315\\\"\\n    src=\\\"https://www.youtube.com/embed/nqgXdna7W_E?start=1&end=233&rel=0&showinfo=0\\\"\\n    frameborder=\\\"0\\\" allowfullscreen>\\n    </iframe>\\n\")"
      ]
     },
     "execution_count": 26,
     "metadata": {},
     "output_type": "execute_result"
    }
   ],
   "source": [
    "Utils.videoHTML(\"nqgXdna7W_E\", 1, 233)"
   ]
  },
  {
   "cell_type": "markdown",
   "metadata": {},
   "source": [
    "# مقدمة - Introduction "
   ]
  },
  {
   "cell_type": "code",
   "execution_count": 38,
   "metadata": {},
   "outputs": [
    {
     "data": {
      "text/html": [
       "    <iframe width=\"560\" height=\"315\"\n",
       "    src=\"https://www.youtube.com/embed/nqgXdna7W_E?start=233&end=423&rel=0&showinfo=0\"\n",
       "    frameborder=\"0\" allowfullscreen>\n",
       "    </iframe>\n"
      ],
      "text/plain": [
       "HTML{String}(\"    <iframe width=\\\"560\\\" height=\\\"315\\\"\\n    src=\\\"https://www.youtube.com/embed/nqgXdna7W_E?start=233&end=423&rel=0&showinfo=0\\\"\\n    frameborder=\\\"0\\\" allowfullscreen>\\n    </iframe>\\n\")"
      ]
     },
     "execution_count": 38,
     "metadata": {},
     "output_type": "execute_result"
    }
   ],
   "source": [
    "Utils.videoHTML(\"nqgXdna7W_E\", 233, 423)"
   ]
  },
  {
   "cell_type": "markdown",
   "metadata": {},
   "source": [
    "# لما جولية - Why Julia "
   ]
  },
  {
   "cell_type": "code",
   "execution_count": 18,
   "metadata": {},
   "outputs": [
    {
     "data": {
      "text/html": [
       "    <iframe width=\"560\" height=\"315\"\n",
       "    src=\"https://www.youtube.com/embed/nqgXdna7W_E?start=423&end=663\"\n",
       "    frameborder=\"0\" allowfullscreen>\n",
       "    </iframe>\n"
      ],
      "text/plain": [
       "HTML{String}(\"    <iframe width=\\\"560\\\" height=\\\"315\\\"\\n    src=\\\"https://www.youtube.com/embed/nqgXdna7W_E?start=423&end=663\\\"\\n    frameborder=\\\"0\\\" allowfullscreen>\\n    </iframe>\\n\")"
      ]
     },
     "execution_count": 18,
     "metadata": {},
     "output_type": "execute_result"
    }
   ],
   "source": [
    "Utils.videoHTML(\"nqgXdna7W_E\", 423, 663)"
   ]
  },
  {
   "cell_type": "markdown",
   "metadata": {},
   "source": [
    "+ لغة برمجة عالية اﻷداء\n",
    "+ تسمح بأنماط برمجة مختلفة\n",
    "+ لغة برمجة ديناميكية و تفاعلية\n",
    "+  (syntax)نحو سهل اﻹستعمال\n",
    "+ برمجة ستاتيكية اختيارية\n",
    "+ نظام حزم غني"
   ]
  },
  {
   "cell_type": "markdown",
   "metadata": {},
   "source": [
    "# من المقصود بهذا الكتاب - Who is This Book for "
   ]
  },
  {
   "cell_type": "code",
   "execution_count": 19,
   "metadata": {},
   "outputs": [
    {
     "data": {
      "text/html": [
       "    <iframe width=\"560\" height=\"315\"\n",
       "    src=\"https://www.youtube.com/embed/nqgXdna7W_E?start=663&end=700\"\n",
       "    frameborder=\"0\" allowfullscreen>\n",
       "    </iframe>\n"
      ],
      "text/plain": [
       "HTML{String}(\"    <iframe width=\\\"560\\\" height=\\\"315\\\"\\n    src=\\\"https://www.youtube.com/embed/nqgXdna7W_E?start=663&end=700\\\"\\n    frameborder=\\\"0\\\" allowfullscreen>\\n    </iframe>\\n\")"
      ]
     },
     "execution_count": 19,
     "metadata": {},
     "output_type": "execute_result"
    }
   ],
   "source": [
    "Utils.videoHTML(\"nqgXdna7W_E\", 663, 738)"
   ]
  },
  {
   "cell_type": "markdown",
   "metadata": {},
   "source": [
    "كل مهتم و مهتمة بتعلم البرمجة\n",
    "ليس هناك متطلبات خاصة لتباع هذا الدرس"
   ]
  },
  {
   "cell_type": "markdown",
   "metadata": {},
   "source": [
    "#  إستعمال أمثلة الكود - Using Code Examples "
   ]
  },
  {
   "cell_type": "code",
   "execution_count": 37,
   "metadata": {},
   "outputs": [
    {
     "data": {
      "text/html": [
       "    <iframe width=\"560\" height=\"315\"\n",
       "    src=\"https://www.youtube.com/embed/nqgXdna7W_E?start=738&end=841&rel=0&showinfo=0\"\n",
       "    frameborder=\"0\" allowfullscreen>\n",
       "    </iframe>\n"
      ],
      "text/plain": [
       "HTML{String}(\"    <iframe width=\\\"560\\\" height=\\\"315\\\"\\n    src=\\\"https://www.youtube.com/embed/nqgXdna7W_E?start=738&end=841&rel=0&showinfo=0\\\"\\n    frameborder=\\\"0\\\" allowfullscreen>\\n    </iframe>\\n\")"
      ]
     },
     "execution_count": 37,
     "metadata": {},
     "output_type": "execute_result"
    }
   ],
   "source": [
    "Utils.videoHTML(\"nqgXdna7W_E\", 738, 841)"
   ]
  },
  {
   "cell_type": "markdown",
   "metadata": {},
   "source": [
    "[Github أمثلة الكود على] [https://github.com/BenLauwens/ThinkJulia.jl](https://github.com/BenLauwens/ThinkJulia.jl)"
   ]
  },
  {
   "cell_type": "markdown",
   "metadata": {},
   "source": [
    "# Repl.it"
   ]
  },
  {
   "cell_type": "code",
   "execution_count": 29,
   "metadata": {},
   "outputs": [
    {
     "data": {
      "text/html": [
       "    <iframe width=\"560\" height=\"315\"\n",
       "    src=\"https://www.youtube.com/embed/nqgXdna7W_E?start=841&end=1097&rel=0&showinfo=0\"\n",
       "    frameborder=\"0\" allowfullscreen>\n",
       "    </iframe>\n"
      ],
      "text/plain": [
       "HTML{String}(\"    <iframe width=\\\"560\\\" height=\\\"315\\\"\\n    src=\\\"https://www.youtube.com/embed/nqgXdna7W_E?start=841&end=1097&rel=0&showinfo=0\\\"\\n    frameborder=\\\"0\\\" allowfullscreen>\\n    </iframe>\\n\")"
      ]
     },
     "execution_count": 29,
     "metadata": {},
     "output_type": "execute_result"
    }
   ],
   "source": [
    "Utils.videoHTML(\"nqgXdna7W_E\", 841, 1097)"
   ]
  },
  {
   "cell_type": "markdown",
   "metadata": {},
   "source": [
    "[رابط للموقع REPL.IT] [https://repl.it/](https://repl.it/)"
   ]
  },
  {
   "cell_type": "markdown",
   "metadata": {},
   "source": [
    "#  تثبيت محلي - Local Installation "
   ]
  },
  {
   "cell_type": "code",
   "execution_count": 32,
   "metadata": {},
   "outputs": [
    {
     "data": {
      "text/html": [
       "    <iframe width=\"560\" height=\"315\"\n",
       "    src=\"https://www.youtube.com/embed/nqgXdna7W_E?start=1097&end=1355&rel=0&showinfo=0\"\n",
       "    frameborder=\"0\" allowfullscreen>\n",
       "    </iframe>\n"
      ],
      "text/plain": [
       "HTML{String}(\"    <iframe width=\\\"560\\\" height=\\\"315\\\"\\n    src=\\\"https://www.youtube.com/embed/nqgXdna7W_E?start=1097&end=1355&rel=0&showinfo=0\\\"\\n    frameborder=\\\"0\\\" allowfullscreen>\\n    </iframe>\\n\")"
      ]
     },
     "execution_count": 32,
     "metadata": {},
     "output_type": "execute_result"
    }
   ],
   "source": [
    "Utils.videoHTML(\"nqgXdna7W_E\", 1097, 1355)"
   ]
  },
  {
   "cell_type": "markdown",
   "metadata": {},
   "source": [
    "رابط لموقع جولية [https://julialang.org/](https://julialang.org/)\n",
    "\n",
    "رابط لموقع [asdf]  [https://asdf-vm.com/](https://asdf-vm.com/)"
   ]
  },
  {
   "cell_type": "markdown",
   "metadata": {},
   "source": [
    "# خاتمة - Conclusion "
   ]
  },
  {
   "cell_type": "code",
   "execution_count": 36,
   "metadata": {},
   "outputs": [
    {
     "data": {
      "text/html": [
       "    <iframe width=\"560\" height=\"315\"\n",
       "    src=\"https://www.youtube.com/embed/nqgXdna7W_E?start=1355&end=1485&rel=0&showinfo=0\"\n",
       "    frameborder=\"0\" allowfullscreen>\n",
       "    </iframe>\n"
      ],
      "text/plain": [
       "HTML{String}(\"    <iframe width=\\\"560\\\" height=\\\"315\\\"\\n    src=\\\"https://www.youtube.com/embed/nqgXdna7W_E?start=1355&end=1485&rel=0&showinfo=0\\\"\\n    frameborder=\\\"0\\\" allowfullscreen>\\n    </iframe>\\n\")"
      ]
     },
     "execution_count": 36,
     "metadata": {},
     "output_type": "execute_result"
    }
   ],
   "source": [
    "Utils.videoHTML(\"nqgXdna7W_E\", 1355, 1485)"
   ]
  },
  {
   "cell_type": "code",
   "execution_count": null,
   "metadata": {},
   "outputs": [],
   "source": []
  }
 ],
 "metadata": {
  "kernelspec": {
   "display_name": "Julia 1.5.0",
   "language": "julia",
   "name": "julia-1.5"
  },
  "language_info": {
   "file_extension": ".jl",
   "mimetype": "application/julia",
   "name": "julia",
   "version": "1.5.0"
  }
 },
 "nbformat": 4,
 "nbformat_minor": 4
}
